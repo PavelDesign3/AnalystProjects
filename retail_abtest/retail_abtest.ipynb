{
 "cells": [
  {
   "cell_type": "markdown",
   "id": "7e07b781",
   "metadata": {},
   "source": [
    "## Task description\n",
    "\n",
    "On the current version of the landing page, the user first selects a retailer, goes to the catalog, searches for the goods he needs, and only then can he find out that there may not be a selected store at his address. We want to test the hypothesis that choosing an address before the store selection stage will help to avoid “wry” scenarios without increasing bounces from the landing itself.\n",
    "\n",
    "#### Groups\n",
    "\n",
    "1 - control (without any changes)\n",
    "\n",
    "2 - test, first the user specifies the address, then selects the store.\n",
    "\n",
    "#### Metrics\n",
    "\n",
    "The main metrics on the basis of which we will make a decision:\n",
    "\n",
    "- Conversion to adding to the cart\n",
    "\n",
    "https://cool-abrosaurus-5ca.notion.site/30-2021-9775b6f3f6754fbc8d9d4fd3ab8717b1"
   ]
  },
  {
   "cell_type": "code",
   "execution_count": 4,
   "id": "99a925f9",
   "metadata": {},
   "outputs": [],
   "source": [
    "import pandas as pd\n",
    "import numpy as np\n",
    "import matplotlib.pyplot as plt\n",
    "%matplotlib inline\n",
    "import math\n",
    "import scipy\n",
    "from scipy import stats"
   ]
  },
  {
   "cell_type": "code",
   "execution_count": 5,
   "id": "dc67b849",
   "metadata": {},
   "outputs": [
    {
     "data": {
      "text/html": [
       "<div>\n",
       "<style scoped>\n",
       "    .dataframe tbody tr th:only-of-type {\n",
       "        vertical-align: middle;\n",
       "    }\n",
       "\n",
       "    .dataframe tbody tr th {\n",
       "        vertical-align: top;\n",
       "    }\n",
       "\n",
       "    .dataframe thead th {\n",
       "        text-align: right;\n",
       "    }\n",
       "</style>\n",
       "<table border=\"1\" class=\"dataframe\">\n",
       "  <thead>\n",
       "    <tr style=\"text-align: right;\">\n",
       "      <th></th>\n",
       "      <th>hit_at</th>\n",
       "      <th>anonymous_id</th>\n",
       "      <th>group</th>\n",
       "      <th>device_type</th>\n",
       "      <th>browser</th>\n",
       "      <th>os</th>\n",
       "    </tr>\n",
       "  </thead>\n",
       "  <tbody>\n",
       "    <tr>\n",
       "      <th>0</th>\n",
       "      <td>2020-11-30 04:21:38.616 UTC</td>\n",
       "      <td>3e05a2dc-3922-4caf-b837-08fcb337c82e</td>\n",
       "      <td>default</td>\n",
       "      <td>desktop</td>\n",
       "      <td>IE</td>\n",
       "      <td>Windows</td>\n",
       "    </tr>\n",
       "    <tr>\n",
       "      <th>1</th>\n",
       "      <td>2020-12-01 20:24:04.363 UTC</td>\n",
       "      <td>7f00b6ca-7938-4866-a323-c520838f5ef9</td>\n",
       "      <td>default</td>\n",
       "      <td>desktop</td>\n",
       "      <td>IE</td>\n",
       "      <td>Windows</td>\n",
       "    </tr>\n",
       "    <tr>\n",
       "      <th>2</th>\n",
       "      <td>2020-11-28 20:16:52.901 UTC</td>\n",
       "      <td>91e9900e-2cc6-4362-92b4-9e6712a6918e</td>\n",
       "      <td>address_first</td>\n",
       "      <td>desktop</td>\n",
       "      <td>IE</td>\n",
       "      <td>Windows</td>\n",
       "    </tr>\n",
       "    <tr>\n",
       "      <th>3</th>\n",
       "      <td>2020-11-29 13:29:40.557 UTC</td>\n",
       "      <td>616dd5e8-dee2-47aa-9d80-0dfadcf1922f</td>\n",
       "      <td>default</td>\n",
       "      <td>desktop</td>\n",
       "      <td>IE</td>\n",
       "      <td>Windows</td>\n",
       "    </tr>\n",
       "    <tr>\n",
       "      <th>4</th>\n",
       "      <td>2020-11-27 14:56:29.471 UTC</td>\n",
       "      <td>64734da4-d9f3-4d53-b401-4d0819a6e5fb</td>\n",
       "      <td>default</td>\n",
       "      <td>desktop</td>\n",
       "      <td>IE</td>\n",
       "      <td>Windows</td>\n",
       "    </tr>\n",
       "  </tbody>\n",
       "</table>\n",
       "</div>"
      ],
      "text/plain": [
       "                        hit_at                          anonymous_id  \\\n",
       "0  2020-11-30 04:21:38.616 UTC  3e05a2dc-3922-4caf-b837-08fcb337c82e   \n",
       "1  2020-12-01 20:24:04.363 UTC  7f00b6ca-7938-4866-a323-c520838f5ef9   \n",
       "2  2020-11-28 20:16:52.901 UTC  91e9900e-2cc6-4362-92b4-9e6712a6918e   \n",
       "3  2020-11-29 13:29:40.557 UTC  616dd5e8-dee2-47aa-9d80-0dfadcf1922f   \n",
       "4  2020-11-27 14:56:29.471 UTC  64734da4-d9f3-4d53-b401-4d0819a6e5fb   \n",
       "\n",
       "           group device_type browser       os  \n",
       "0        default     desktop      IE  Windows  \n",
       "1        default     desktop      IE  Windows  \n",
       "2  address_first     desktop      IE  Windows  \n",
       "3        default     desktop      IE  Windows  \n",
       "4        default     desktop      IE  Windows  "
      ]
     },
     "execution_count": 5,
     "metadata": {},
     "output_type": "execute_result"
    }
   ],
   "source": [
    "df = pd.read_csv('AB Test Hit.csv')\n",
    "df.head()"
   ]
  },
  {
   "cell_type": "markdown",
   "id": "a9270dad",
   "metadata": {},
   "source": [
    "# 1. Sanity check, cleaning data"
   ]
  },
  {
   "cell_type": "markdown",
   "id": "2abf8b23",
   "metadata": {},
   "source": [
    "Let's verify that the experiment was conducted as expected"
   ]
  },
  {
   "cell_type": "code",
   "execution_count": 6,
   "id": "41f6d31d",
   "metadata": {},
   "outputs": [
    {
     "data": {
      "text/plain": [
       "default          446474\n",
       "address_first     56310\n",
       "Name: group, dtype: int64"
      ]
     },
     "execution_count": 6,
     "metadata": {},
     "output_type": "execute_result"
    }
   ],
   "source": [
    "df['group'].value_counts()"
   ]
  },
  {
   "cell_type": "code",
   "execution_count": 7,
   "id": "04b0fec4",
   "metadata": {},
   "outputs": [
    {
     "data": {
      "text/plain": [
       "(502784, 6)"
      ]
     },
     "execution_count": 7,
     "metadata": {},
     "output_type": "execute_result"
    }
   ],
   "source": [
    "df.shape"
   ]
  },
  {
   "cell_type": "code",
   "execution_count": 8,
   "id": "109af13a",
   "metadata": {},
   "outputs": [
    {
     "data": {
      "text/plain": [
       "489019"
      ]
     },
     "execution_count": 8,
     "metadata": {},
     "output_type": "execute_result"
    }
   ],
   "source": [
    "df['anonymous_id'].nunique()"
   ]
  },
  {
   "cell_type": "markdown",
   "id": "5674befb",
   "metadata": {},
   "source": [
    "### 1.1. Users in Test and Control groups"
   ]
  },
  {
   "cell_type": "code",
   "execution_count": 9,
   "id": "8f939595",
   "metadata": {},
   "outputs": [
    {
     "name": "stdout",
     "output_type": "stream",
     "text": [
      "We have 13765 duplicating ids. Let's fix it.\n"
     ]
    }
   ],
   "source": [
    "print(\"We have {} duplicating ids. Let's fix it.\".format(df.shape[0] - df['anonymous_id'].nunique()))"
   ]
  },
  {
   "cell_type": "code",
   "execution_count": 10,
   "id": "9634e765",
   "metadata": {},
   "outputs": [],
   "source": [
    "num_ids = df.groupby(by = ['anonymous_id', 'group'])['anonymous_id'].agg(cnt_ids = 'count').reset_index()"
   ]
  },
  {
   "cell_type": "code",
   "execution_count": 11,
   "id": "0408bc55",
   "metadata": {},
   "outputs": [
    {
     "data": {
      "text/html": [
       "<div>\n",
       "<style scoped>\n",
       "    .dataframe tbody tr th:only-of-type {\n",
       "        vertical-align: middle;\n",
       "    }\n",
       "\n",
       "    .dataframe tbody tr th {\n",
       "        vertical-align: top;\n",
       "    }\n",
       "\n",
       "    .dataframe thead th {\n",
       "        text-align: right;\n",
       "    }\n",
       "</style>\n",
       "<table border=\"1\" class=\"dataframe\">\n",
       "  <thead>\n",
       "    <tr style=\"text-align: right;\">\n",
       "      <th></th>\n",
       "      <th>anonymous_id</th>\n",
       "      <th>group</th>\n",
       "      <th>cnt_ids</th>\n",
       "    </tr>\n",
       "  </thead>\n",
       "  <tbody>\n",
       "    <tr>\n",
       "      <th>0</th>\n",
       "      <td>00000782-154a-4159-ab12-6c34b658e375</td>\n",
       "      <td>default</td>\n",
       "      <td>2</td>\n",
       "    </tr>\n",
       "    <tr>\n",
       "      <th>318104</th>\n",
       "      <td>a6651839-60df-4862-b377-05fa30540c68</td>\n",
       "      <td>default</td>\n",
       "      <td>2</td>\n",
       "    </tr>\n",
       "    <tr>\n",
       "      <th>318227</th>\n",
       "      <td>a6786cf6-0c94-452e-ad22-eae70b3d17fd</td>\n",
       "      <td>default</td>\n",
       "      <td>2</td>\n",
       "    </tr>\n",
       "    <tr>\n",
       "      <th>318283</th>\n",
       "      <td>a67fa796-62f7-4eaf-80a6-20aa325147f7</td>\n",
       "      <td>default</td>\n",
       "      <td>2</td>\n",
       "    </tr>\n",
       "    <tr>\n",
       "      <th>318385</th>\n",
       "      <td>a68a2a0a-da85-45af-ab57-cac58167f4bd</td>\n",
       "      <td>default</td>\n",
       "      <td>2</td>\n",
       "    </tr>\n",
       "    <tr>\n",
       "      <th>...</th>\n",
       "      <td>...</td>\n",
       "      <td>...</td>\n",
       "      <td>...</td>\n",
       "    </tr>\n",
       "    <tr>\n",
       "      <th>356133</th>\n",
       "      <td>ba5239f5-1115-4caa-aef2-242a9c039b12</td>\n",
       "      <td>default</td>\n",
       "      <td>14</td>\n",
       "    </tr>\n",
       "    <tr>\n",
       "      <th>13308</th>\n",
       "      <td>06eaec3d-511a-4794-92ea-a19efaaf7f19</td>\n",
       "      <td>default</td>\n",
       "      <td>15</td>\n",
       "    </tr>\n",
       "    <tr>\n",
       "      <th>56718</th>\n",
       "      <td>1dea1cc9-72c0-4bee-bdb6-c59faacd72ba</td>\n",
       "      <td>default</td>\n",
       "      <td>15</td>\n",
       "    </tr>\n",
       "    <tr>\n",
       "      <th>360669</th>\n",
       "      <td>bcaa113d-c128-443f-9ede-2736847e1969</td>\n",
       "      <td>default</td>\n",
       "      <td>15</td>\n",
       "    </tr>\n",
       "    <tr>\n",
       "      <th>174888</th>\n",
       "      <td>5bb785fd-e0e7-447a-b0e1-a06328b31cbe</td>\n",
       "      <td>default</td>\n",
       "      <td>18</td>\n",
       "    </tr>\n",
       "  </tbody>\n",
       "</table>\n",
       "<p>10656 rows × 3 columns</p>\n",
       "</div>"
      ],
      "text/plain": [
       "                                anonymous_id    group  cnt_ids\n",
       "0       00000782-154a-4159-ab12-6c34b658e375  default        2\n",
       "318104  a6651839-60df-4862-b377-05fa30540c68  default        2\n",
       "318227  a6786cf6-0c94-452e-ad22-eae70b3d17fd  default        2\n",
       "318283  a67fa796-62f7-4eaf-80a6-20aa325147f7  default        2\n",
       "318385  a68a2a0a-da85-45af-ab57-cac58167f4bd  default        2\n",
       "...                                      ...      ...      ...\n",
       "356133  ba5239f5-1115-4caa-aef2-242a9c039b12  default       14\n",
       "13308   06eaec3d-511a-4794-92ea-a19efaaf7f19  default       15\n",
       "56718   1dea1cc9-72c0-4bee-bdb6-c59faacd72ba  default       15\n",
       "360669  bcaa113d-c128-443f-9ede-2736847e1969  default       15\n",
       "174888  5bb785fd-e0e7-447a-b0e1-a06328b31cbe  default       18\n",
       "\n",
       "[10656 rows x 3 columns]"
      ]
     },
     "execution_count": 11,
     "metadata": {},
     "output_type": "execute_result"
    }
   ],
   "source": [
    "duplicated_ids = num_ids[num_ids['cnt_ids'] > 1]\n",
    "duplicated_ids.sort_values(by = 'cnt_ids')"
   ]
  },
  {
   "cell_type": "code",
   "execution_count": 12,
   "id": "eae1470f",
   "metadata": {},
   "outputs": [],
   "source": [
    "drop_ids = set(duplicated_ids[duplicated_ids['anonymous_id'].duplicated()]['anonymous_id'])"
   ]
  },
  {
   "cell_type": "code",
   "execution_count": 13,
   "id": "05e1d0c4",
   "metadata": {},
   "outputs": [
    {
     "name": "stdout",
     "output_type": "stream",
     "text": [
      "User ids that are in both groups:  {'42b96e58-6e9a-46eb-ac13-5628e3655e07', 'bd2d24ed-057d-46f8-a723-3d76617fc745', 'fb24fbdb-076a-434e-843b-483286468588', '6804b672-1956-4b87-8eb7-bd1cf167e699', 'c222fa89-1c1b-49fb-ab93-333aacabcf0d', '73a49ded-4192-4e54-ae49-2c7235e931fa', 'e082144b-f119-4a82-9cfd-ee6f70bd5601', 'cebd2043-6a3a-4f4e-9c94-258b0708bf5e'} 8\n"
     ]
    }
   ],
   "source": [
    "print('User ids that are in both groups: ', drop_ids, len(drop_ids))"
   ]
  },
  {
   "cell_type": "markdown",
   "id": "30f8ffe4",
   "metadata": {},
   "source": [
    "8 users are in both groups - let's drop them"
   ]
  },
  {
   "cell_type": "markdown",
   "id": "1d0167a1",
   "metadata": {},
   "source": [
    "other ~10000 users are duplicated in our table, but they belong to the same group. We will leave the oldest entry"
   ]
  },
  {
   "cell_type": "code",
   "execution_count": 14,
   "id": "22600979",
   "metadata": {},
   "outputs": [],
   "source": [
    "df_cleaned = df.sort_values(by = ['anonymous_id', 'hit_at']).groupby(by = 'anonymous_id').agg('first')\n",
    "df_cleaned.reset_index(inplace = True)"
   ]
  },
  {
   "cell_type": "code",
   "execution_count": 15,
   "id": "6528592e",
   "metadata": {},
   "outputs": [
    {
     "data": {
      "text/plain": [
       "(489019, 6)"
      ]
     },
     "execution_count": 15,
     "metadata": {},
     "output_type": "execute_result"
    }
   ],
   "source": [
    "df_cleaned.shape"
   ]
  },
  {
   "cell_type": "code",
   "execution_count": 16,
   "id": "18d1e54b",
   "metadata": {},
   "outputs": [],
   "source": [
    "drop_indexes = df_cleaned[df_cleaned['anonymous_id'].isin(drop_ids)].index"
   ]
  },
  {
   "cell_type": "code",
   "execution_count": 17,
   "id": "b3eb4a88",
   "metadata": {},
   "outputs": [
    {
     "data": {
      "text/plain": [
       "(489011, 6)"
      ]
     },
     "execution_count": 17,
     "metadata": {},
     "output_type": "execute_result"
    }
   ],
   "source": [
    "df_cleaned = df_cleaned.drop(drop_indexes)\n",
    "df_cleaned.shape"
   ]
  },
  {
   "cell_type": "code",
   "execution_count": 18,
   "id": "7595da83",
   "metadata": {},
   "outputs": [
    {
     "data": {
      "text/plain": [
       "489011"
      ]
     },
     "execution_count": 18,
     "metadata": {},
     "output_type": "execute_result"
    }
   ],
   "source": [
    "df_cleaned['anonymous_id'].nunique()"
   ]
  },
  {
   "cell_type": "markdown",
   "id": "9715eb43",
   "metadata": {},
   "source": [
    "Ok, now we have cleaned table with unique ids"
   ]
  },
  {
   "cell_type": "code",
   "execution_count": 19,
   "id": "b51d55c6",
   "metadata": {},
   "outputs": [],
   "source": [
    "df = df_cleaned"
   ]
  },
  {
   "cell_type": "markdown",
   "id": "785191e7",
   "metadata": {},
   "source": [
    "### 1.2. Time of the experiment"
   ]
  },
  {
   "cell_type": "code",
   "execution_count": 20,
   "id": "8813c5d7",
   "metadata": {},
   "outputs": [],
   "source": [
    "df['date'] = pd.to_datetime(df['hit_at']).dt.date"
   ]
  },
  {
   "cell_type": "code",
   "execution_count": 21,
   "id": "d725346f",
   "metadata": {},
   "outputs": [
    {
     "data": {
      "image/png": "[encoded data removed]",
      "text/plain": [
       "<Figure size 864x360 with 2 Axes>"
      ]
     },
     "metadata": {
      "needs_background": "light"
     },
     "output_type": "display_data"
    }
   ],
   "source": [
    "plt.figure(figsize = (12, 5))\n",
    "plt.subplot(1, 2, 1)\n",
    "plt.hist(df[df['group'] == 'default']['date'], bins = 15, color = 'b', label = 'Control group')\n",
    "plt.legend()\n",
    "\n",
    "plt.subplot(1, 2, 2)\n",
    "plt.hist(df[df['group'] == 'address_first']['date'], bins = 15, color = 'r', label = 'Test group')\n",
    "plt.legend()\n",
    "\n",
    "plt.show()"
   ]
  },
  {
   "cell_type": "code",
   "execution_count": 22,
   "id": "c225af8f",
   "metadata": {},
   "outputs": [
    {
     "data": {
      "text/plain": [
       "min    2020-11-26\n",
       "max    2020-12-10\n",
       "Name: date, dtype: object"
      ]
     },
     "execution_count": 22,
     "metadata": {},
     "output_type": "execute_result"
    }
   ],
   "source": [
    "df[df['group'] == 'default']['date'].agg(['min', 'max'])"
   ]
  },
  {
   "cell_type": "code",
   "execution_count": 23,
   "id": "da894764",
   "metadata": {},
   "outputs": [
    {
     "data": {
      "text/plain": [
       "min    2020-11-26\n",
       "max    2020-12-10\n",
       "Name: date, dtype: object"
      ]
     },
     "execution_count": 23,
     "metadata": {},
     "output_type": "execute_result"
    }
   ],
   "source": [
    "df[df['group'] == 'address_first']['date'].agg(['min', 'max'])"
   ]
  },
  {
   "cell_type": "markdown",
   "id": "f811b7bb",
   "metadata": {},
   "source": [
    "The experiment lasted 15 days. The distributions of Control and Test groups by dates look the same."
   ]
  },
  {
   "cell_type": "markdown",
   "id": "7643da2c",
   "metadata": {},
   "source": [
    "### 1.3. Distributions of device_type and os in Control and Test groups"
   ]
  },
  {
   "cell_type": "code",
   "execution_count": 24,
   "id": "d59a6062",
   "metadata": {},
   "outputs": [],
   "source": [
    "device_types_control = df[df['group'] == 'default']['device_type'].value_counts()\n",
    "device_types_test = df[df['group'] == 'address_first']['device_type'].value_counts()"
   ]
  },
  {
   "cell_type": "code",
   "execution_count": 25,
   "id": "266e0e3a",
   "metadata": {},
   "outputs": [
    {
     "data": {
      "image/png": "[encoded data removed]",
      "text/plain": [
       "<Figure size 864x360 with 2 Axes>"
      ]
     },
     "metadata": {},
     "output_type": "display_data"
    }
   ],
   "source": [
    "plt.figure(figsize = (12, 5))\n",
    "plt.subplot(1, 2, 1).set_title('Control group')\n",
    "plt.pie(device_types_control, labels = device_types_control.index)\n",
    "\n",
    "plt.subplot(1, 2, 2).set_title('Test group')\n",
    "plt.pie(device_types_test, labels = device_types_test.index)\n",
    "plt.show()"
   ]
  },
  {
   "cell_type": "code",
   "execution_count": 26,
   "id": "48ae6627",
   "metadata": {},
   "outputs": [],
   "source": [
    "os_control = df[df['group'] == 'default']['os'].value_counts().reset_index()\n",
    "os_test = df[df['group'] == 'address_first']['os'].value_counts().reset_index()\n",
    "os_control.set_axis(['os', 'cnt'], axis = 1, inplace = True)\n",
    "os_test.set_axis(['os', 'cnt'], axis = 1, inplace = True)"
   ]
  },
  {
   "cell_type": "code",
   "execution_count": 27,
   "id": "b3886a80",
   "metadata": {},
   "outputs": [],
   "source": [
    "threshold_control = 0.01*os_control['cnt'].sum()\n",
    "threshold_test = 0.01*os_test['cnt'].sum()"
   ]
  },
  {
   "cell_type": "code",
   "execution_count": 28,
   "id": "7f458841",
   "metadata": {},
   "outputs": [],
   "source": [
    "os_control['os'] = os_control.apply(lambda x: x.os if (x.cnt > threshold_control) else 'other', axis = 1)\n",
    "os_test['os'] = os_test.apply(lambda x: x.os if (x.cnt > threshold_test) else 'other', axis = 1)"
   ]
  },
  {
   "cell_type": "code",
   "execution_count": 29,
   "id": "867e621e",
   "metadata": {},
   "outputs": [],
   "source": [
    "os_control = os_control.groupby(by = 'os').sum().reset_index()\n",
    "os_test = os_test.groupby(by = 'os').sum().reset_index()"
   ]
  },
  {
   "cell_type": "code",
   "execution_count": 30,
   "id": "e7642d86",
   "metadata": {},
   "outputs": [
    {
     "data": {
      "image/png": "[encoded data removed]",
      "text/plain": [
       "<Figure size 864x360 with 2 Axes>"
      ]
     },
     "metadata": {},
     "output_type": "display_data"
    }
   ],
   "source": [
    "plt.figure(figsize = (12, 5))\n",
    "plt.subplot(1, 2, 1).set_title('Control group')\n",
    "plt.pie(os_control['cnt'], labels = os_control['os'])\n",
    "\n",
    "plt.subplot(1, 2, 2).set_title('Test group')\n",
    "plt.pie(os_test['cnt'], labels = os_test['os'])\n",
    "\n",
    "plt.show()"
   ]
  },
  {
   "cell_type": "markdown",
   "id": "11df81a1",
   "metadata": {},
   "source": [
    "Experiment is conducted as expected"
   ]
  },
  {
   "cell_type": "markdown",
   "id": "e48b228f",
   "metadata": {},
   "source": [
    "# 2. Preparing data from other tables for analysis"
   ]
  },
  {
   "cell_type": "markdown",
   "id": "283b4703",
   "metadata": {},
   "source": [
    "### 2.1. Product added"
   ]
  },
  {
   "cell_type": "code",
   "execution_count": 31,
   "id": "f8a71687",
   "metadata": {},
   "outputs": [
    {
     "data": {
      "text/html": [
       "<div>\n",
       "<style scoped>\n",
       "    .dataframe tbody tr th:only-of-type {\n",
       "        vertical-align: middle;\n",
       "    }\n",
       "\n",
       "    .dataframe tbody tr th {\n",
       "        vertical-align: top;\n",
       "    }\n",
       "\n",
       "    .dataframe thead th {\n",
       "        text-align: right;\n",
       "    }\n",
       "</style>\n",
       "<table border=\"1\" class=\"dataframe\">\n",
       "  <thead>\n",
       "    <tr style=\"text-align: right;\">\n",
       "      <th></th>\n",
       "      <th>timestamp</th>\n",
       "      <th>anonymous_id</th>\n",
       "    </tr>\n",
       "  </thead>\n",
       "  <tbody>\n",
       "    <tr>\n",
       "      <th>0</th>\n",
       "      <td>2020-12-09 20:51:32.429 UTC</td>\n",
       "      <td>e2d50ef1-0667-4da4-88ef-ecbdd7c6a73a</td>\n",
       "    </tr>\n",
       "    <tr>\n",
       "      <th>1</th>\n",
       "      <td>2020-12-09 19:39:10.216 UTC</td>\n",
       "      <td>bb5ca977-97f4-4ec8-8a71-fe206108917b</td>\n",
       "    </tr>\n",
       "    <tr>\n",
       "      <th>2</th>\n",
       "      <td>2020-12-09 21:53:08.999 UTC</td>\n",
       "      <td>8e965f2b-7da0-4efb-84f5-f205956e8c30</td>\n",
       "    </tr>\n",
       "    <tr>\n",
       "      <th>3</th>\n",
       "      <td>2020-12-09 19:46:22.307 UTC</td>\n",
       "      <td>bb5ca977-97f4-4ec8-8a71-fe206108917b</td>\n",
       "    </tr>\n",
       "    <tr>\n",
       "      <th>4</th>\n",
       "      <td>2020-12-09 22:16:13.379 UTC</td>\n",
       "      <td>8e965f2b-7da0-4efb-84f5-f205956e8c30</td>\n",
       "    </tr>\n",
       "  </tbody>\n",
       "</table>\n",
       "</div>"
      ],
      "text/plain": [
       "                     timestamp                          anonymous_id\n",
       "0  2020-12-09 20:51:32.429 UTC  e2d50ef1-0667-4da4-88ef-ecbdd7c6a73a\n",
       "1  2020-12-09 19:39:10.216 UTC  bb5ca977-97f4-4ec8-8a71-fe206108917b\n",
       "2  2020-12-09 21:53:08.999 UTC  8e965f2b-7da0-4efb-84f5-f205956e8c30\n",
       "3  2020-12-09 19:46:22.307 UTC  bb5ca977-97f4-4ec8-8a71-fe206108917b\n",
       "4  2020-12-09 22:16:13.379 UTC  8e965f2b-7da0-4efb-84f5-f205956e8c30"
      ]
     },
     "execution_count": 31,
     "metadata": {},
     "output_type": "execute_result"
    }
   ],
   "source": [
    "df_product_added = pd.read_csv('Product Added.csv')\n",
    "df_product_added.head()"
   ]
  },
  {
   "cell_type": "code",
   "execution_count": 32,
   "id": "69de9ce5",
   "metadata": {},
   "outputs": [
    {
     "data": {
      "text/plain": [
       "(1150060, 2)"
      ]
     },
     "execution_count": 32,
     "metadata": {},
     "output_type": "execute_result"
    }
   ],
   "source": [
    "df_product_added.shape"
   ]
  },
  {
   "cell_type": "code",
   "execution_count": 33,
   "id": "89aa20bc",
   "metadata": {},
   "outputs": [],
   "source": [
    "df_product_added = df_product_added.merge(df[['anonymous_id', 'hit_at']], how = 'left', on = 'anonymous_id')"
   ]
  },
  {
   "cell_type": "code",
   "execution_count": 34,
   "id": "51358717",
   "metadata": {},
   "outputs": [
    {
     "data": {
      "text/html": [
       "<div>\n",
       "<style scoped>\n",
       "    .dataframe tbody tr th:only-of-type {\n",
       "        vertical-align: middle;\n",
       "    }\n",
       "\n",
       "    .dataframe tbody tr th {\n",
       "        vertical-align: top;\n",
       "    }\n",
       "\n",
       "    .dataframe thead th {\n",
       "        text-align: right;\n",
       "    }\n",
       "</style>\n",
       "<table border=\"1\" class=\"dataframe\">\n",
       "  <thead>\n",
       "    <tr style=\"text-align: right;\">\n",
       "      <th></th>\n",
       "      <th>timestamp</th>\n",
       "      <th>anonymous_id</th>\n",
       "      <th>hit_at</th>\n",
       "    </tr>\n",
       "  </thead>\n",
       "  <tbody>\n",
       "    <tr>\n",
       "      <th>0</th>\n",
       "      <td>2020-12-09 20:51:32.429 UTC</td>\n",
       "      <td>e2d50ef1-0667-4da4-88ef-ecbdd7c6a73a</td>\n",
       "      <td>2020-12-07 06:08:33.61 UTC</td>\n",
       "    </tr>\n",
       "    <tr>\n",
       "      <th>1</th>\n",
       "      <td>2020-12-09 19:39:10.216 UTC</td>\n",
       "      <td>bb5ca977-97f4-4ec8-8a71-fe206108917b</td>\n",
       "      <td>2020-11-26 17:07:10.428 UTC</td>\n",
       "    </tr>\n",
       "    <tr>\n",
       "      <th>2</th>\n",
       "      <td>2020-12-09 21:53:08.999 UTC</td>\n",
       "      <td>8e965f2b-7da0-4efb-84f5-f205956e8c30</td>\n",
       "      <td>2020-11-30 16:51:42.402 UTC</td>\n",
       "    </tr>\n",
       "    <tr>\n",
       "      <th>3</th>\n",
       "      <td>2020-12-09 19:46:22.307 UTC</td>\n",
       "      <td>bb5ca977-97f4-4ec8-8a71-fe206108917b</td>\n",
       "      <td>2020-11-26 17:07:10.428 UTC</td>\n",
       "    </tr>\n",
       "    <tr>\n",
       "      <th>4</th>\n",
       "      <td>2020-12-09 22:16:13.379 UTC</td>\n",
       "      <td>8e965f2b-7da0-4efb-84f5-f205956e8c30</td>\n",
       "      <td>2020-11-30 16:51:42.402 UTC</td>\n",
       "    </tr>\n",
       "  </tbody>\n",
       "</table>\n",
       "</div>"
      ],
      "text/plain": [
       "                     timestamp                          anonymous_id  \\\n",
       "0  2020-12-09 20:51:32.429 UTC  e2d50ef1-0667-4da4-88ef-ecbdd7c6a73a   \n",
       "1  2020-12-09 19:39:10.216 UTC  bb5ca977-97f4-4ec8-8a71-fe206108917b   \n",
       "2  2020-12-09 21:53:08.999 UTC  8e965f2b-7da0-4efb-84f5-f205956e8c30   \n",
       "3  2020-12-09 19:46:22.307 UTC  bb5ca977-97f4-4ec8-8a71-fe206108917b   \n",
       "4  2020-12-09 22:16:13.379 UTC  8e965f2b-7da0-4efb-84f5-f205956e8c30   \n",
       "\n",
       "                        hit_at  \n",
       "0   2020-12-07 06:08:33.61 UTC  \n",
       "1  2020-11-26 17:07:10.428 UTC  \n",
       "2  2020-11-30 16:51:42.402 UTC  \n",
       "3  2020-11-26 17:07:10.428 UTC  \n",
       "4  2020-11-30 16:51:42.402 UTC  "
      ]
     },
     "execution_count": 34,
     "metadata": {},
     "output_type": "execute_result"
    }
   ],
   "source": [
    "df_product_added.head()"
   ]
  },
  {
   "cell_type": "code",
   "execution_count": 35,
   "id": "0c16f714",
   "metadata": {},
   "outputs": [],
   "source": [
    "df_product_added = df_product_added[df_product_added['timestamp'] > df_product_added['hit_at']]"
   ]
  },
  {
   "cell_type": "code",
   "execution_count": 36,
   "id": "3518e68b",
   "metadata": {},
   "outputs": [],
   "source": [
    "df_product_added = df_product_added.groupby(by = 'anonymous_id')['timestamp'].count().to_frame('num_of_products_added').reset_index()"
   ]
  },
  {
   "cell_type": "code",
   "execution_count": 37,
   "id": "d08fea17",
   "metadata": {},
   "outputs": [
    {
     "data": {
      "text/html": [
       "<div>\n",
       "<style scoped>\n",
       "    .dataframe tbody tr th:only-of-type {\n",
       "        vertical-align: middle;\n",
       "    }\n",
       "\n",
       "    .dataframe tbody tr th {\n",
       "        vertical-align: top;\n",
       "    }\n",
       "\n",
       "    .dataframe thead th {\n",
       "        text-align: right;\n",
       "    }\n",
       "</style>\n",
       "<table border=\"1\" class=\"dataframe\">\n",
       "  <thead>\n",
       "    <tr style=\"text-align: right;\">\n",
       "      <th></th>\n",
       "      <th>anonymous_id</th>\n",
       "      <th>num_of_products_added</th>\n",
       "    </tr>\n",
       "  </thead>\n",
       "  <tbody>\n",
       "    <tr>\n",
       "      <th>0</th>\n",
       "      <td>00000782-154a-4159-ab12-6c34b658e375</td>\n",
       "      <td>34</td>\n",
       "    </tr>\n",
       "    <tr>\n",
       "      <th>1</th>\n",
       "      <td>00021d91-c65e-4049-9ae1-7d64702c8c12</td>\n",
       "      <td>20</td>\n",
       "    </tr>\n",
       "    <tr>\n",
       "      <th>2</th>\n",
       "      <td>0003ca8f-bb3f-4954-84c7-1fbf2353a454</td>\n",
       "      <td>9</td>\n",
       "    </tr>\n",
       "    <tr>\n",
       "      <th>3</th>\n",
       "      <td>0004225d-57d6-44af-8f41-93958b41fbc4</td>\n",
       "      <td>8</td>\n",
       "    </tr>\n",
       "    <tr>\n",
       "      <th>4</th>\n",
       "      <td>00048409-3554-4049-907b-88401056d5b0</td>\n",
       "      <td>9</td>\n",
       "    </tr>\n",
       "  </tbody>\n",
       "</table>\n",
       "</div>"
      ],
      "text/plain": [
       "                           anonymous_id  num_of_products_added\n",
       "0  00000782-154a-4159-ab12-6c34b658e375                     34\n",
       "1  00021d91-c65e-4049-9ae1-7d64702c8c12                     20\n",
       "2  0003ca8f-bb3f-4954-84c7-1fbf2353a454                      9\n",
       "3  0004225d-57d6-44af-8f41-93958b41fbc4                      8\n",
       "4  00048409-3554-4049-907b-88401056d5b0                      9"
      ]
     },
     "execution_count": 37,
     "metadata": {},
     "output_type": "execute_result"
    }
   ],
   "source": [
    "df_product_added.head()"
   ]
  },
  {
   "cell_type": "code",
   "execution_count": 38,
   "id": "d98dfda1",
   "metadata": {},
   "outputs": [],
   "source": [
    "df = df.merge(df_product_added, how = 'left', on = 'anonymous_id')"
   ]
  },
  {
   "cell_type": "code",
   "execution_count": 39,
   "id": "bdf96d3e",
   "metadata": {},
   "outputs": [],
   "source": [
    "df['num_of_products_added'].fillna(0, inplace = True)"
   ]
  },
  {
   "cell_type": "code",
   "execution_count": 40,
   "id": "be3c4ac4",
   "metadata": {},
   "outputs": [],
   "source": [
    "df['is_product_added'] = df['num_of_products_added'].apply(lambda x: True if (x > 0) else False)"
   ]
  },
  {
   "cell_type": "markdown",
   "id": "0fb77d84",
   "metadata": {},
   "source": [
    "### 2.2. Order Completed"
   ]
  },
  {
   "cell_type": "code",
   "execution_count": 41,
   "id": "c0125d91",
   "metadata": {},
   "outputs": [
    {
     "data": {
      "text/html": [
       "<div>\n",
       "<style scoped>\n",
       "    .dataframe tbody tr th:only-of-type {\n",
       "        vertical-align: middle;\n",
       "    }\n",
       "\n",
       "    .dataframe tbody tr th {\n",
       "        vertical-align: top;\n",
       "    }\n",
       "\n",
       "    .dataframe thead th {\n",
       "        text-align: right;\n",
       "    }\n",
       "</style>\n",
       "<table border=\"1\" class=\"dataframe\">\n",
       "  <thead>\n",
       "    <tr style=\"text-align: right;\">\n",
       "      <th></th>\n",
       "      <th>timestamp</th>\n",
       "      <th>anonymous_id</th>\n",
       "      <th>order_sum</th>\n",
       "    </tr>\n",
       "  </thead>\n",
       "  <tbody>\n",
       "    <tr>\n",
       "      <th>0</th>\n",
       "      <td>2020-12-10 09:23:09.195 UTC</td>\n",
       "      <td>3343c486-8d88-44a6-87e5-5c1631e3db3d</td>\n",
       "      <td>3746.231921</td>\n",
       "    </tr>\n",
       "    <tr>\n",
       "      <th>1</th>\n",
       "      <td>2020-12-10 13:11:07.166 UTC</td>\n",
       "      <td>c4491ab9-e59e-444e-bd92-c462830e4b5b</td>\n",
       "      <td>1619.242047</td>\n",
       "    </tr>\n",
       "    <tr>\n",
       "      <th>2</th>\n",
       "      <td>2020-12-10 15:42:29.153 UTC</td>\n",
       "      <td>82f2bac5-8c73-4ed2-8022-27fa0dbd8fc2</td>\n",
       "      <td>2439.605901</td>\n",
       "    </tr>\n",
       "    <tr>\n",
       "      <th>3</th>\n",
       "      <td>2020-12-10 17:04:52.163 UTC</td>\n",
       "      <td>fffb6076-550e-445e-8227-68219671113a</td>\n",
       "      <td>1288.577888</td>\n",
       "    </tr>\n",
       "    <tr>\n",
       "      <th>4</th>\n",
       "      <td>2020-12-10 21:25:58.898 UTC</td>\n",
       "      <td>00e258f1-7908-467e-a66e-d42284ea3f2d</td>\n",
       "      <td>6875.955129</td>\n",
       "    </tr>\n",
       "  </tbody>\n",
       "</table>\n",
       "</div>"
      ],
      "text/plain": [
       "                     timestamp                          anonymous_id  \\\n",
       "0  2020-12-10 09:23:09.195 UTC  3343c486-8d88-44a6-87e5-5c1631e3db3d   \n",
       "1  2020-12-10 13:11:07.166 UTC  c4491ab9-e59e-444e-bd92-c462830e4b5b   \n",
       "2  2020-12-10 15:42:29.153 UTC  82f2bac5-8c73-4ed2-8022-27fa0dbd8fc2   \n",
       "3  2020-12-10 17:04:52.163 UTC  fffb6076-550e-445e-8227-68219671113a   \n",
       "4  2020-12-10 21:25:58.898 UTC  00e258f1-7908-467e-a66e-d42284ea3f2d   \n",
       "\n",
       "     order_sum  \n",
       "0  3746.231921  \n",
       "1  1619.242047  \n",
       "2  2439.605901  \n",
       "3  1288.577888  \n",
       "4  6875.955129  "
      ]
     },
     "execution_count": 41,
     "metadata": {},
     "output_type": "execute_result"
    }
   ],
   "source": [
    "df_order = pd.read_csv('Order Completed.csv')\n",
    "df_order.head()"
   ]
  },
  {
   "cell_type": "code",
   "execution_count": 42,
   "id": "cbc6480b",
   "metadata": {},
   "outputs": [
    {
     "data": {
      "text/plain": [
       "(16650, 3)"
      ]
     },
     "execution_count": 42,
     "metadata": {},
     "output_type": "execute_result"
    }
   ],
   "source": [
    "df_order.shape"
   ]
  },
  {
   "cell_type": "code",
   "execution_count": 43,
   "id": "9a947fb1",
   "metadata": {},
   "outputs": [],
   "source": [
    "df_order = df_order.merge(df[['anonymous_id', 'hit_at']], how = 'left', on = 'anonymous_id')"
   ]
  },
  {
   "cell_type": "code",
   "execution_count": 44,
   "id": "09d7fa6a",
   "metadata": {},
   "outputs": [],
   "source": [
    "df_order = df_order[df_order['timestamp'] > df_order['hit_at']]"
   ]
  },
  {
   "cell_type": "code",
   "execution_count": 45,
   "id": "3f2cf12e",
   "metadata": {},
   "outputs": [
    {
     "data": {
      "text/plain": [
       "(15446, 4)"
      ]
     },
     "execution_count": 45,
     "metadata": {},
     "output_type": "execute_result"
    }
   ],
   "source": [
    "df_order.shape"
   ]
  },
  {
   "cell_type": "code",
   "execution_count": 46,
   "id": "d5fce021",
   "metadata": {},
   "outputs": [
    {
     "data": {
      "text/plain": [
       "8618"
      ]
     },
     "execution_count": 46,
     "metadata": {},
     "output_type": "execute_result"
    }
   ],
   "source": [
    "df_order['anonymous_id'].nunique()"
   ]
  },
  {
   "cell_type": "code",
   "execution_count": 47,
   "id": "82e6f5c1",
   "metadata": {},
   "outputs": [],
   "source": [
    "df_order = df_order.groupby(by = 'anonymous_id').agg(order_sum = ('order_sum', 'sum'), order_cnt = ('order_sum', 'count')).reset_index()"
   ]
  },
  {
   "cell_type": "code",
   "execution_count": 48,
   "id": "12624e92",
   "metadata": {},
   "outputs": [],
   "source": [
    "df_order['is_order_completed'] = True"
   ]
  },
  {
   "cell_type": "code",
   "execution_count": 49,
   "id": "617bbe35",
   "metadata": {},
   "outputs": [],
   "source": [
    "df = df.merge(df_order, how = 'left', on = 'anonymous_id')"
   ]
  },
  {
   "cell_type": "code",
   "execution_count": 50,
   "id": "efa7cf19",
   "metadata": {},
   "outputs": [],
   "source": [
    "df['order_sum'].fillna(0, inplace = True)\n",
    "df['order_cnt'].fillna(0, inplace = True)\n",
    "df['is_order_completed'].fillna(False, inplace = True)"
   ]
  },
  {
   "cell_type": "markdown",
   "id": "f327a25e",
   "metadata": {},
   "source": [
    "# 3. Analysing Data"
   ]
  },
  {
   "cell_type": "markdown",
   "id": "a3c7611e",
   "metadata": {},
   "source": [
    "## 3.1. Conversion rates"
   ]
  },
  {
   "cell_type": "code",
   "execution_count": 51,
   "id": "6b62920a",
   "metadata": {},
   "outputs": [
    {
     "data": {
      "text/html": [
       "<div>\n",
       "<style scoped>\n",
       "    .dataframe tbody tr th:only-of-type {\n",
       "        vertical-align: middle;\n",
       "    }\n",
       "\n",
       "    .dataframe tbody tr th {\n",
       "        vertical-align: top;\n",
       "    }\n",
       "\n",
       "    .dataframe thead th {\n",
       "        text-align: right;\n",
       "    }\n",
       "</style>\n",
       "<table border=\"1\" class=\"dataframe\">\n",
       "  <thead>\n",
       "    <tr style=\"text-align: right;\">\n",
       "      <th></th>\n",
       "      <th>anonymous_id</th>\n",
       "      <th>hit_at</th>\n",
       "      <th>group</th>\n",
       "      <th>device_type</th>\n",
       "      <th>browser</th>\n",
       "      <th>os</th>\n",
       "      <th>date</th>\n",
       "      <th>num_of_products_added</th>\n",
       "      <th>is_product_added</th>\n",
       "      <th>order_sum</th>\n",
       "      <th>order_cnt</th>\n",
       "      <th>is_order_completed</th>\n",
       "    </tr>\n",
       "  </thead>\n",
       "  <tbody>\n",
       "    <tr>\n",
       "      <th>0</th>\n",
       "      <td>00000782-154a-4159-ab12-6c34b658e375</td>\n",
       "      <td>2020-11-28 07:46:52.198 UTC</td>\n",
       "      <td>default</td>\n",
       "      <td>mobile</td>\n",
       "      <td>Chrome</td>\n",
       "      <td>Android</td>\n",
       "      <td>2020-11-28</td>\n",
       "      <td>34.0</td>\n",
       "      <td>True</td>\n",
       "      <td>0.0</td>\n",
       "      <td>0.0</td>\n",
       "      <td>False</td>\n",
       "    </tr>\n",
       "    <tr>\n",
       "      <th>1</th>\n",
       "      <td>00001104-4c72-4f48-bb8c-ace2ded63f8b</td>\n",
       "      <td>2020-12-05 10:01:51.373 UTC</td>\n",
       "      <td>default</td>\n",
       "      <td>desktop</td>\n",
       "      <td>Chrome</td>\n",
       "      <td>Windows</td>\n",
       "      <td>2020-12-05</td>\n",
       "      <td>0.0</td>\n",
       "      <td>False</td>\n",
       "      <td>0.0</td>\n",
       "      <td>0.0</td>\n",
       "      <td>False</td>\n",
       "    </tr>\n",
       "  </tbody>\n",
       "</table>\n",
       "</div>"
      ],
      "text/plain": [
       "                           anonymous_id                       hit_at    group  \\\n",
       "0  00000782-154a-4159-ab12-6c34b658e375  2020-11-28 07:46:52.198 UTC  default   \n",
       "1  00001104-4c72-4f48-bb8c-ace2ded63f8b  2020-12-05 10:01:51.373 UTC  default   \n",
       "\n",
       "  device_type browser       os        date  num_of_products_added  \\\n",
       "0      mobile  Chrome  Android  2020-11-28                   34.0   \n",
       "1     desktop  Chrome  Windows  2020-12-05                    0.0   \n",
       "\n",
       "   is_product_added  order_sum  order_cnt  is_order_completed  \n",
       "0              True        0.0        0.0               False  \n",
       "1             False        0.0        0.0               False  "
      ]
     },
     "execution_count": 51,
     "metadata": {},
     "output_type": "execute_result"
    }
   ],
   "source": [
    "df.head(2)"
   ]
  },
  {
   "cell_type": "code",
   "execution_count": 52,
   "id": "b8dd3155",
   "metadata": {},
   "outputs": [],
   "source": [
    "df_result = df.groupby(by = 'group').agg(total_hits = ('is_product_added', 'count'), is_products_added = ('is_product_added', 'sum'), \n",
    "                            is_order_completed = ('is_order_completed', 'sum'), mean_products_added = ('num_of_products_added', 'mean')).reset_index()"
   ]
  },
  {
   "cell_type": "code",
   "execution_count": 53,
   "id": "f3cbc544",
   "metadata": {},
   "outputs": [
    {
     "data": {
      "text/html": [
       "<div>\n",
       "<style scoped>\n",
       "    .dataframe tbody tr th:only-of-type {\n",
       "        vertical-align: middle;\n",
       "    }\n",
       "\n",
       "    .dataframe tbody tr th {\n",
       "        vertical-align: top;\n",
       "    }\n",
       "\n",
       "    .dataframe thead th {\n",
       "        text-align: right;\n",
       "    }\n",
       "</style>\n",
       "<table border=\"1\" class=\"dataframe\">\n",
       "  <thead>\n",
       "    <tr style=\"text-align: right;\">\n",
       "      <th></th>\n",
       "      <th>group</th>\n",
       "      <th>total_hits</th>\n",
       "      <th>is_products_added</th>\n",
       "      <th>is_order_completed</th>\n",
       "      <th>mean_products_added</th>\n",
       "      <th>cr_products_added</th>\n",
       "      <th>cr_order</th>\n",
       "    </tr>\n",
       "  </thead>\n",
       "  <tbody>\n",
       "    <tr>\n",
       "      <th>0</th>\n",
       "      <td>address_first</td>\n",
       "      <td>54510</td>\n",
       "      <td>5280</td>\n",
       "      <td>998</td>\n",
       "      <td>2.215722</td>\n",
       "      <td>0.096863</td>\n",
       "      <td>0.018309</td>\n",
       "    </tr>\n",
       "    <tr>\n",
       "      <th>1</th>\n",
       "      <td>default</td>\n",
       "      <td>434501</td>\n",
       "      <td>38156</td>\n",
       "      <td>7620</td>\n",
       "      <td>2.136628</td>\n",
       "      <td>0.087816</td>\n",
       "      <td>0.017537</td>\n",
       "    </tr>\n",
       "  </tbody>\n",
       "</table>\n",
       "</div>"
      ],
      "text/plain": [
       "           group  total_hits  is_products_added  is_order_completed  \\\n",
       "0  address_first       54510               5280                 998   \n",
       "1        default      434501              38156                7620   \n",
       "\n",
       "   mean_products_added  cr_products_added  cr_order  \n",
       "0             2.215722           0.096863  0.018309  \n",
       "1             2.136628           0.087816  0.017537  "
      ]
     },
     "execution_count": 53,
     "metadata": {},
     "output_type": "execute_result"
    }
   ],
   "source": [
    "df_result['cr_products_added'] = df_result['is_products_added']/df_result['total_hits']\n",
    "df_result['cr_order'] = df_result['is_order_completed']/df_result['total_hits']\n",
    "df_result"
   ]
  },
  {
   "cell_type": "code",
   "execution_count": 54,
   "id": "06bf0d8d",
   "metadata": {},
   "outputs": [
    {
     "data": {
      "text/html": [
       "<div>\n",
       "<style scoped>\n",
       "    .dataframe tbody tr th:only-of-type {\n",
       "        vertical-align: middle;\n",
       "    }\n",
       "\n",
       "    .dataframe tbody tr th {\n",
       "        vertical-align: top;\n",
       "    }\n",
       "\n",
       "    .dataframe thead th {\n",
       "        text-align: right;\n",
       "    }\n",
       "</style>\n",
       "<table border=\"1\" class=\"dataframe\">\n",
       "  <thead>\n",
       "    <tr style=\"text-align: right;\">\n",
       "      <th></th>\n",
       "      <th>group</th>\n",
       "      <th>mean_order</th>\n",
       "      <th>median_order</th>\n",
       "    </tr>\n",
       "  </thead>\n",
       "  <tbody>\n",
       "    <tr>\n",
       "      <th>0</th>\n",
       "      <td>address_first</td>\n",
       "      <td>11239.049608</td>\n",
       "      <td>6635.975758</td>\n",
       "    </tr>\n",
       "    <tr>\n",
       "      <th>1</th>\n",
       "      <td>default</td>\n",
       "      <td>11263.323674</td>\n",
       "      <td>6275.947395</td>\n",
       "    </tr>\n",
       "  </tbody>\n",
       "</table>\n",
       "</div>"
      ],
      "text/plain": [
       "           group    mean_order  median_order\n",
       "0  address_first  11239.049608   6635.975758\n",
       "1        default  11263.323674   6275.947395"
      ]
     },
     "execution_count": 54,
     "metadata": {},
     "output_type": "execute_result"
    }
   ],
   "source": [
    "df_result_order_sum = df[df['order_sum'] > 0].groupby(by = 'group').agg(mean_order = ('order_sum', 'mean'), median_order = ('order_sum', 'median')).reset_index()\n",
    "df_result_order_sum"
   ]
  },
  {
   "cell_type": "markdown",
   "id": "7cdd6a3a",
   "metadata": {},
   "source": [
    "## 3.2. Hypothesis testing"
   ]
  },
  {
   "cell_type": "markdown",
   "id": "f270044b",
   "metadata": {},
   "source": [
    "### 3.2.1. Conversion rate for users to add products to a cart "
   ]
  },
  {
   "cell_type": "markdown",
   "id": "bc7b87d9",
   "metadata": {},
   "source": [
    "**Null Hypothesis**: The conversion rate for users to add products to a cart is the same for both groups.\n",
    "\n",
    "**Alternative Hypothesis** : The conversion rate differs."
   ]
  },
  {
   "cell_type": "code",
   "execution_count": 55,
   "id": "2fca358c",
   "metadata": {},
   "outputs": [],
   "source": [
    "def proportions_diff_z_stat_ind(sample1, sample2):\n",
    "    n1 = len(sample1)\n",
    "    n2 = len(sample2)\n",
    "    \n",
    "    p1 = float(sum(sample1))/n1\n",
    "    p2 = float(sum(sample2))/n2\n",
    "    p = float(p1*n1 + p2*n2) / (n1 + n2)\n",
    "    \n",
    "    return (p1 - p2) / math.sqrt(p * (1-p) *(1./n1 + 1./n2))"
   ]
  },
  {
   "cell_type": "code",
   "execution_count": 56,
   "id": "a2a12224",
   "metadata": {},
   "outputs": [],
   "source": [
    "def proportions_diff_z_test(z_stat):\n",
    "    return 2 * (1 - scipy.stats.norm.cdf(abs(z_stat)))"
   ]
  },
  {
   "cell_type": "code",
   "execution_count": 57,
   "id": "b7113df9",
   "metadata": {},
   "outputs": [],
   "source": [
    "z_stat_product_added = proportions_diff_z_stat_ind(df[df['group'] == 'default']['is_product_added'], df[df['group'] == 'address_first']['is_product_added'])"
   ]
  },
  {
   "cell_type": "code",
   "execution_count": 58,
   "id": "92acf206",
   "metadata": {},
   "outputs": [
    {
     "name": "stdout",
     "output_type": "stream",
     "text": [
      "p-value: 2.581046487648564e-12\n"
     ]
    }
   ],
   "source": [
    "print('p-value: {}'.format(proportions_diff_z_test(z_stat_product_added)))"
   ]
  },
  {
   "cell_type": "markdown",
   "id": "ca5a2d4f",
   "metadata": {},
   "source": [
    "$H_0$ rejected. The conversion rate differs. p-value: 2.58e-12"
   ]
  },
  {
   "cell_type": "markdown",
   "id": "8195ec29",
   "metadata": {},
   "source": [
    "### 3.2.2. Conversion rate for users to make an order"
   ]
  },
  {
   "cell_type": "markdown",
   "id": "9b936703",
   "metadata": {},
   "source": [
    "**Null Hypothesis**: The conversion rate for users to make an order is the same for both groups.\n",
    "\n",
    "**Alternative Hypothesis**: The conversion rate differs."
   ]
  },
  {
   "cell_type": "code",
   "execution_count": 59,
   "id": "48881b1d",
   "metadata": {},
   "outputs": [],
   "source": [
    "z_stat_order_completed = proportions_diff_z_stat_ind(df[df['group'] == 'default']['is_order_completed'], df[df['group'] == 'address_first']['is_order_completed'])"
   ]
  },
  {
   "cell_type": "code",
   "execution_count": 60,
   "id": "08440d1e",
   "metadata": {},
   "outputs": [
    {
     "name": "stdout",
     "output_type": "stream",
     "text": [
      "p-value: 0.1970783049582141\n"
     ]
    }
   ],
   "source": [
    "print('p-value: {}'.format(proportions_diff_z_test(z_stat_order_completed)))"
   ]
  },
  {
   "cell_type": "markdown",
   "id": "6d33ce02",
   "metadata": {},
   "source": [
    "We can not reject $H_0$ at significant level of 0.05 (p-value = 0.197)"
   ]
  },
  {
   "cell_type": "markdown",
   "id": "27265348",
   "metadata": {},
   "source": [
    "### 3.2.3. Order price "
   ]
  },
  {
   "cell_type": "code",
   "execution_count": 71,
   "id": "4068cd77",
   "metadata": {},
   "outputs": [],
   "source": [
    "#scipy.stats.probplot(df[(df['order_sum'] > 0) & (df['group'] == 'address_first')]['order_sum'], dist = 'norm', plot = plt)"
   ]
  },
  {
   "cell_type": "markdown",
   "id": "58bd52f8",
   "metadata": {},
   "source": [
    "$H_0\\colon F_{X_1}(x) = F_{X_2}(x)$\n",
    "\n",
    "$H_1\\colon F_{X_1}(x) = F_{X_2}(x + \\Delta), \\Delta\\neq 0$"
   ]
  },
  {
   "cell_type": "code",
   "execution_count": 63,
   "id": "39dd90cd",
   "metadata": {},
   "outputs": [
    {
     "data": {
      "text/plain": [
       "MannwhitneyuResult(statistic=3759639.0, pvalue=0.5630563518377296)"
      ]
     },
     "execution_count": 63,
     "metadata": {},
     "output_type": "execute_result"
    }
   ],
   "source": [
    "scipy.stats.mannwhitneyu(df[(df['group'] == 'default') & (df['order_sum'] > 0)]['order_sum'], df[(df['group'] == 'address_first') & (df['order_sum'] > 0)]['order_sum'])"
   ]
  },
  {
   "cell_type": "markdown",
   "id": "dd301330",
   "metadata": {},
   "source": [
    "We can not reject $H_0$. Order price didn't changed statistically significant, pvalue = 0.56"
   ]
  },
  {
   "cell_type": "code",
   "execution_count": 64,
   "id": "edd936ae",
   "metadata": {},
   "outputs": [
    {
     "data": {
      "text/plain": [
       "MannwhitneyuResult(statistic=11833149115.0, pvalue=0.19501428401097576)"
      ]
     },
     "execution_count": 64,
     "metadata": {},
     "output_type": "execute_result"
    }
   ],
   "source": [
    "scipy.stats.mannwhitneyu(df[(df['group'] == 'default')]['order_sum'], df[(df['group'] == 'address_first')]['order_sum'])"
   ]
  },
  {
   "cell_type": "markdown",
   "id": "4ab1b073",
   "metadata": {},
   "source": [
    "#### Bootstrap. Median changes."
   ]
  },
  {
   "cell_type": "code",
   "execution_count": 65,
   "id": "7d925363",
   "metadata": {},
   "outputs": [],
   "source": [
    "def get_bootstrap_samples(data, n_samples, len_sample):\n",
    "    indices = np.random.randint(0, len(data), (n_samples, len_sample))\n",
    "    samples = data[indices]\n",
    "    return samples"
   ]
  },
  {
   "cell_type": "code",
   "execution_count": 66,
   "id": "e9ec90c0",
   "metadata": {},
   "outputs": [],
   "source": [
    "def stat_intervals(stat, alpha):\n",
    "    boundaries = np.percentile(stat, [100*alpha/2., 100*(1 - alpha/2.)])\n",
    "    return boundaries"
   ]
  },
  {
   "cell_type": "code",
   "execution_count": 67,
   "id": "4a40f9c5",
   "metadata": {},
   "outputs": [],
   "source": [
    "order_control = df[(df['group'] == 'default') & (df['order_sum'] > 0)]['order_sum'].values\n",
    "order_test = df[(df['group'] == 'address_first') & (df['order_sum'] > 0)]['order_sum'].values"
   ]
  },
  {
   "cell_type": "code",
   "execution_count": 68,
   "id": "f601e2a9",
   "metadata": {},
   "outputs": [],
   "source": [
    "order_control_median = list(map(np.median, get_bootstrap_samples(order_control, 10000, len(order_control))))\n",
    "order_test_median = list(map(np.median, get_bootstrap_samples(order_test, 10000, len(order_test))))\n",
    "\n",
    "delta_median_scores = list(map(lambda x: x[1] - x[0], zip(order_control_median, order_test_median)))"
   ]
  },
  {
   "cell_type": "code",
   "execution_count": 69,
   "id": "bd8272be",
   "metadata": {},
   "outputs": [
    {
     "data": {
      "image/png": "[encoded data removed]",
      "text/plain": [
       "<Figure size 432x288 with 1 Axes>"
      ]
     },
     "metadata": {
      "needs_background": "light"
     },
     "output_type": "display_data"
    }
   ],
   "source": [
    "plt.hist(delta_median_scores)\n",
    "plt.show()"
   ]
  },
  {
   "cell_type": "code",
   "execution_count": 70,
   "id": "77d50595",
   "metadata": {},
   "outputs": [
    {
     "data": {
      "text/plain": [
       "array([-166.08921627,  863.02747809])"
      ]
     },
     "execution_count": 70,
     "metadata": {},
     "output_type": "execute_result"
    }
   ],
   "source": [
    "stat_intervals(delta_median_scores, 0.05)"
   ]
  },
  {
   "cell_type": "markdown",
   "id": "e4932c46",
   "metadata": {},
   "source": [
    "At significant level of 0.05, we can not confirm that median of order price has changed."
   ]
  },
  {
   "cell_type": "markdown",
   "id": "fc65f984",
   "metadata": {},
   "source": [
    "# 4. Conclusion"
   ]
  },
  {
   "cell_type": "markdown",
   "id": "ceaf15e1",
   "metadata": {},
   "source": [
    "According to the metric proposed (conversion to adding to the cart), the experiment can indeed be considered successful:\n",
    "+ conversion increased from 0.088 to 0.097, statistically significantly, p-value: 2.58e-12\n",
    "\n",
    "**BUT** if we use more important metrics for business: \n",
    "+ conversion to order\n",
    "+ average order price\n",
    "\n",
    "they have not changed statistically significantly and the experiment can be considered unsuccessful."
   ]
  }
 ],
 "metadata": {
  "kernelspec": {
   "display_name": "Python 3 (ipykernel)",
   "language": "python",
   "name": "python3"
  },
  "language_info": {
   "codemirror_mode": {
    "name": "ipython",
    "version": 3
   },
   "file_extension": ".py",
   "mimetype": "text/x-python",
   "name": "python",
   "nbconvert_exporter": "python",
   "pygments_lexer": "ipython3",
   "version": "3.9.12"
  }
 },
 "nbformat": 4,
 "nbformat_minor": 5
}
