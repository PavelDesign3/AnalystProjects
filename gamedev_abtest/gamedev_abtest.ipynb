{
 "cells": [
  {
   "cell_type": "markdown",
   "id": "f21a4bf3",
   "metadata": {},
   "source": [
    "#### Description\n",
    "\n",
    "The game contains a special event - an event for which users spend money. A group of designers decided to change the window for buying event products. To evaluate the result of the innovation, an AB test was chosen, dividing users into two groups: control and test (with a new type of window).\n",
    "\n",
    "#### Task\n",
    "To research which of the AB group showed itself better.\n",
    "\n",
    "#### Data\n",
    "1. AbGroup – AB group name: Control/Test\n",
    "2. user_id - user id\n",
    "3. time_stamp - the day of the event\n",
    "4. install_date - the day the user installed the application\n",
    "5. event_name - technical name of the event (InAppPurchase - in case of purchase for money, ResourceSpend in case of purchase for game currency)\n",
    "6. platform - google/itunes platform\n",
    "7. network_name - the user installed the game from ads (Paid) or not (Organic)\n",
    "8. country_name - user's country\n",
    "9. InGameTime - how many seconds the user spent in the game\n",
    "10. LastCompletedLevel - the number of the last completed level\n",
    "11. avg_energy_amount - how much energy the user had per day on average\n",
    "12. profit_on_event - revenue from the purchase of event products\n",
    "13. Income_from_other_activity - revenue from other products, including gold\n",
    "14. gold_on_event - gold spent on event progress\n",
    "15. gold_on_other_activities - gold spent on other products"
   ]
  },
  {
   "cell_type": "code",
   "execution_count": 1,
   "id": "371a6281",
   "metadata": {},
   "outputs": [],
   "source": [
    "import pandas as pd\n",
    "import numpy as np\n",
    "import math\n",
    "import matplotlib.pyplot as plt\n",
    "from statsmodels.stats.proportion import proportion_confint\n",
    "import scipy"
   ]
  },
  {
   "cell_type": "code",
   "execution_count": 2,
   "id": "0d151bca",
   "metadata": {},
   "outputs": [],
   "source": [
    "df = pd.read_csv('test_task_product_analyst_2021_20210427.csv')"
   ]
  },
  {
   "cell_type": "code",
   "execution_count": 3,
   "id": "500490e0",
   "metadata": {},
   "outputs": [
    {
     "data": {
      "text/html": [
       "<div>\n",
       "<style scoped>\n",
       "    .dataframe tbody tr th:only-of-type {\n",
       "        vertical-align: middle;\n",
       "    }\n",
       "\n",
       "    .dataframe tbody tr th {\n",
       "        vertical-align: top;\n",
       "    }\n",
       "\n",
       "    .dataframe thead th {\n",
       "        text-align: right;\n",
       "    }\n",
       "</style>\n",
       "<table border=\"1\" class=\"dataframe\">\n",
       "  <thead>\n",
       "    <tr style=\"text-align: right;\">\n",
       "      <th></th>\n",
       "      <th>AbGroup</th>\n",
       "      <th>user_id</th>\n",
       "      <th>time_stamp</th>\n",
       "      <th>install_date</th>\n",
       "      <th>event_name</th>\n",
       "      <th>platform</th>\n",
       "      <th>network_name</th>\n",
       "      <th>country_name</th>\n",
       "      <th>InGameTime</th>\n",
       "      <th>LastCompletedLevel</th>\n",
       "      <th>avg_energy_amount</th>\n",
       "      <th>revenue_on_event</th>\n",
       "      <th>revenue_on_other_activities</th>\n",
       "      <th>gold_on_event</th>\n",
       "      <th>gold_on_other_activities</th>\n",
       "    </tr>\n",
       "  </thead>\n",
       "  <tbody>\n",
       "    <tr>\n",
       "      <th>0</th>\n",
       "      <td>Control</td>\n",
       "      <td>d60ebcaecff2dc1d360a8a41271e6fd8a902c107</td>\n",
       "      <td>2020-02-10</td>\n",
       "      <td>2019-11-10</td>\n",
       "      <td>ResourceSpend</td>\n",
       "      <td>itunes</td>\n",
       "      <td>Organic</td>\n",
       "      <td>United Kingdom of Great Britain and Northern I...</td>\n",
       "      <td>276180</td>\n",
       "      <td>345</td>\n",
       "      <td>54.0</td>\n",
       "      <td>0.0</td>\n",
       "      <td>0.0</td>\n",
       "      <td>NaN</td>\n",
       "      <td>NaN</td>\n",
       "    </tr>\n",
       "    <tr>\n",
       "      <th>1</th>\n",
       "      <td>Test</td>\n",
       "      <td>f6e385b0ab43d5aea9cfcc408aa84029a4ea5fdb</td>\n",
       "      <td>2020-03-04</td>\n",
       "      <td>2019-11-05</td>\n",
       "      <td>ResourceSpend</td>\n",
       "      <td>itunes</td>\n",
       "      <td>Paid</td>\n",
       "      <td>United States of America</td>\n",
       "      <td>166095</td>\n",
       "      <td>199</td>\n",
       "      <td>50.0</td>\n",
       "      <td>0.0</td>\n",
       "      <td>0.0</td>\n",
       "      <td>NaN</td>\n",
       "      <td>NaN</td>\n",
       "    </tr>\n",
       "    <tr>\n",
       "      <th>2</th>\n",
       "      <td>Control</td>\n",
       "      <td>a4c80c8524e2c11cc238553d7b02da01ce2aad66</td>\n",
       "      <td>2020-02-26</td>\n",
       "      <td>2020-01-02</td>\n",
       "      <td>ResourceSpend</td>\n",
       "      <td>itunes</td>\n",
       "      <td>Paid</td>\n",
       "      <td>Canada</td>\n",
       "      <td>240986</td>\n",
       "      <td>84</td>\n",
       "      <td>39.0</td>\n",
       "      <td>0.0</td>\n",
       "      <td>0.0</td>\n",
       "      <td>NaN</td>\n",
       "      <td>NaN</td>\n",
       "    </tr>\n",
       "    <tr>\n",
       "      <th>3</th>\n",
       "      <td>Control</td>\n",
       "      <td>7ea2e4599ae33760c307e254839317bd5b17a63c</td>\n",
       "      <td>2020-02-21</td>\n",
       "      <td>2020-01-13</td>\n",
       "      <td>ResourceSpend</td>\n",
       "      <td>itunes</td>\n",
       "      <td>Organic</td>\n",
       "      <td>France</td>\n",
       "      <td>989822</td>\n",
       "      <td>1176</td>\n",
       "      <td>21.0</td>\n",
       "      <td>0.0</td>\n",
       "      <td>0.0</td>\n",
       "      <td>NaN</td>\n",
       "      <td>NaN</td>\n",
       "    </tr>\n",
       "    <tr>\n",
       "      <th>4</th>\n",
       "      <td>Control</td>\n",
       "      <td>6495168982929360dc6d84bf0766d8963a7ddc41</td>\n",
       "      <td>2020-02-18</td>\n",
       "      <td>2020-02-05</td>\n",
       "      <td>ResourceSpend</td>\n",
       "      <td>itunes</td>\n",
       "      <td>Paid</td>\n",
       "      <td>Spain</td>\n",
       "      <td>52106</td>\n",
       "      <td>66</td>\n",
       "      <td>43.0</td>\n",
       "      <td>0.0</td>\n",
       "      <td>0.0</td>\n",
       "      <td>500.0</td>\n",
       "      <td>NaN</td>\n",
       "    </tr>\n",
       "  </tbody>\n",
       "</table>\n",
       "</div>"
      ],
      "text/plain": [
       "   AbGroup                                   user_id  time_stamp install_date  \\\n",
       "0  Control  d60ebcaecff2dc1d360a8a41271e6fd8a902c107  2020-02-10   2019-11-10   \n",
       "1     Test  f6e385b0ab43d5aea9cfcc408aa84029a4ea5fdb  2020-03-04   2019-11-05   \n",
       "2  Control  a4c80c8524e2c11cc238553d7b02da01ce2aad66  2020-02-26   2020-01-02   \n",
       "3  Control  7ea2e4599ae33760c307e254839317bd5b17a63c  2020-02-21   2020-01-13   \n",
       "4  Control  6495168982929360dc6d84bf0766d8963a7ddc41  2020-02-18   2020-02-05   \n",
       "\n",
       "      event_name platform network_name  \\\n",
       "0  ResourceSpend   itunes      Organic   \n",
       "1  ResourceSpend   itunes         Paid   \n",
       "2  ResourceSpend   itunes         Paid   \n",
       "3  ResourceSpend   itunes      Organic   \n",
       "4  ResourceSpend   itunes         Paid   \n",
       "\n",
       "                                        country_name  InGameTime  \\\n",
       "0  United Kingdom of Great Britain and Northern I...      276180   \n",
       "1                           United States of America      166095   \n",
       "2                                             Canada      240986   \n",
       "3                                             France      989822   \n",
       "4                                              Spain       52106   \n",
       "\n",
       "   LastCompletedLevel  avg_energy_amount  revenue_on_event  \\\n",
       "0                 345               54.0               0.0   \n",
       "1                 199               50.0               0.0   \n",
       "2                  84               39.0               0.0   \n",
       "3                1176               21.0               0.0   \n",
       "4                  66               43.0               0.0   \n",
       "\n",
       "   revenue_on_other_activities  gold_on_event  gold_on_other_activities  \n",
       "0                          0.0            NaN                       NaN  \n",
       "1                          0.0            NaN                       NaN  \n",
       "2                          0.0            NaN                       NaN  \n",
       "3                          0.0            NaN                       NaN  \n",
       "4                          0.0          500.0                       NaN  "
      ]
     },
     "execution_count": 3,
     "metadata": {},
     "output_type": "execute_result"
    }
   ],
   "source": [
    "df.head()"
   ]
  },
  {
   "cell_type": "code",
   "execution_count": 4,
   "id": "c4583aed",
   "metadata": {},
   "outputs": [
    {
     "data": {
      "text/plain": [
       "(696840, 15)"
      ]
     },
     "execution_count": 4,
     "metadata": {},
     "output_type": "execute_result"
    }
   ],
   "source": [
    "df.shape"
   ]
  },
  {
   "cell_type": "markdown",
   "id": "abce15e6",
   "metadata": {},
   "source": [
    "# 1. Sanity check, cleaning data"
   ]
  },
  {
   "cell_type": "code",
   "execution_count": 5,
   "id": "db75096d",
   "metadata": {},
   "outputs": [
    {
     "data": {
      "text/plain": [
       "Control    558070\n",
       "Test       138770\n",
       "Name: AbGroup, dtype: int64"
      ]
     },
     "execution_count": 5,
     "metadata": {},
     "output_type": "execute_result"
    }
   ],
   "source": [
    "df['AbGroup'].value_counts()"
   ]
  },
  {
   "cell_type": "code",
   "execution_count": 6,
   "id": "7414fb79",
   "metadata": {},
   "outputs": [
    {
     "data": {
      "text/plain": [
       "(696840, 15)"
      ]
     },
     "execution_count": 6,
     "metadata": {},
     "output_type": "execute_result"
    }
   ],
   "source": [
    "df.shape"
   ]
  },
  {
   "cell_type": "markdown",
   "id": "2c94389f",
   "metadata": {},
   "source": [
    "### 1.1. Distribution of users by groups"
   ]
  },
  {
   "cell_type": "code",
   "execution_count": 7,
   "id": "e1c5d5fd",
   "metadata": {},
   "outputs": [
    {
     "data": {
      "text/plain": [
       "110960"
      ]
     },
     "execution_count": 7,
     "metadata": {},
     "output_type": "execute_result"
    }
   ],
   "source": [
    "df['user_id'].nunique()"
   ]
  },
  {
   "cell_type": "code",
   "execution_count": 8,
   "id": "ba96f55a",
   "metadata": {},
   "outputs": [],
   "source": [
    "control_users = set(df[df['AbGroup'] == 'Control']['user_id'].unique())\n",
    "test_users = set(df[df['AbGroup'] == 'Test']['user_id'].unique())"
   ]
  },
  {
   "cell_type": "code",
   "execution_count": 9,
   "id": "e95f0c7b",
   "metadata": {},
   "outputs": [],
   "source": [
    "duplicated_users = control_users.intersection(test_users)"
   ]
  },
  {
   "cell_type": "code",
   "execution_count": 10,
   "id": "149f580a",
   "metadata": {},
   "outputs": [
    {
     "name": "stdout",
     "output_type": "stream",
     "text": [
      "We have 352 users in both the Control and Test groups\n"
     ]
    }
   ],
   "source": [
    "print('We have {} users in both the Control and Test groups'.format(len(duplicated_users)))"
   ]
  },
  {
   "cell_type": "markdown",
   "id": "c4553bde",
   "metadata": {},
   "source": [
    "Let's remove them"
   ]
  },
  {
   "cell_type": "code",
   "execution_count": 11,
   "id": "7f02396a",
   "metadata": {},
   "outputs": [],
   "source": [
    "df = df[~df['user_id'].isin(duplicated_users)]"
   ]
  },
  {
   "cell_type": "markdown",
   "id": "79a27664",
   "metadata": {},
   "source": [
    "### 1.2. Distribution of other parameters in Test and Control groups"
   ]
  },
  {
   "cell_type": "code",
   "execution_count": 12,
   "id": "81fce9e5",
   "metadata": {},
   "outputs": [
    {
     "data": {
      "text/html": [
       "<div>\n",
       "<style scoped>\n",
       "    .dataframe tbody tr th:only-of-type {\n",
       "        vertical-align: middle;\n",
       "    }\n",
       "\n",
       "    .dataframe tbody tr th {\n",
       "        vertical-align: top;\n",
       "    }\n",
       "\n",
       "    .dataframe thead th {\n",
       "        text-align: right;\n",
       "    }\n",
       "</style>\n",
       "<table border=\"1\" class=\"dataframe\">\n",
       "  <thead>\n",
       "    <tr style=\"text-align: right;\">\n",
       "      <th></th>\n",
       "      <th>AbGroup</th>\n",
       "      <th>user_id</th>\n",
       "      <th>time_stamp</th>\n",
       "      <th>install_date</th>\n",
       "      <th>event_name</th>\n",
       "      <th>platform</th>\n",
       "      <th>network_name</th>\n",
       "      <th>country_name</th>\n",
       "      <th>InGameTime</th>\n",
       "      <th>LastCompletedLevel</th>\n",
       "      <th>avg_energy_amount</th>\n",
       "      <th>revenue_on_event</th>\n",
       "      <th>revenue_on_other_activities</th>\n",
       "      <th>gold_on_event</th>\n",
       "      <th>gold_on_other_activities</th>\n",
       "    </tr>\n",
       "  </thead>\n",
       "  <tbody>\n",
       "    <tr>\n",
       "      <th>count</th>\n",
       "      <td>694482</td>\n",
       "      <td>694482</td>\n",
       "      <td>694482</td>\n",
       "      <td>694482</td>\n",
       "      <td>694482</td>\n",
       "      <td>694482</td>\n",
       "      <td>694482</td>\n",
       "      <td>694482</td>\n",
       "      <td>6.944820e+05</td>\n",
       "      <td>694482.000000</td>\n",
       "      <td>6.944820e+05</td>\n",
       "      <td>694482.0</td>\n",
       "      <td>694482.0</td>\n",
       "      <td>45254.000000</td>\n",
       "      <td>167420.000000</td>\n",
       "    </tr>\n",
       "    <tr>\n",
       "      <th>unique</th>\n",
       "      <td>2</td>\n",
       "      <td>110608</td>\n",
       "      <td>25</td>\n",
       "      <td>687</td>\n",
       "      <td>1</td>\n",
       "      <td>1</td>\n",
       "      <td>2</td>\n",
       "      <td>115</td>\n",
       "      <td>NaN</td>\n",
       "      <td>NaN</td>\n",
       "      <td>NaN</td>\n",
       "      <td>NaN</td>\n",
       "      <td>NaN</td>\n",
       "      <td>NaN</td>\n",
       "      <td>NaN</td>\n",
       "    </tr>\n",
       "    <tr>\n",
       "      <th>top</th>\n",
       "      <td>Control</td>\n",
       "      <td>3374cb32638d0667e76654df698c06c437c8aeaf</td>\n",
       "      <td>2020-03-01</td>\n",
       "      <td>2020-02-14</td>\n",
       "      <td>ResourceSpend</td>\n",
       "      <td>itunes</td>\n",
       "      <td>Paid</td>\n",
       "      <td>United Kingdom of Great Britain and Northern I...</td>\n",
       "      <td>NaN</td>\n",
       "      <td>NaN</td>\n",
       "      <td>NaN</td>\n",
       "      <td>NaN</td>\n",
       "      <td>NaN</td>\n",
       "      <td>NaN</td>\n",
       "      <td>NaN</td>\n",
       "    </tr>\n",
       "    <tr>\n",
       "      <th>freq</th>\n",
       "      <td>556675</td>\n",
       "      <td>37</td>\n",
       "      <td>33944</td>\n",
       "      <td>8707</td>\n",
       "      <td>694482</td>\n",
       "      <td>694482</td>\n",
       "      <td>438724</td>\n",
       "      <td>185578</td>\n",
       "      <td>NaN</td>\n",
       "      <td>NaN</td>\n",
       "      <td>NaN</td>\n",
       "      <td>NaN</td>\n",
       "      <td>NaN</td>\n",
       "      <td>NaN</td>\n",
       "      <td>NaN</td>\n",
       "    </tr>\n",
       "    <tr>\n",
       "      <th>mean</th>\n",
       "      <td>NaN</td>\n",
       "      <td>NaN</td>\n",
       "      <td>NaN</td>\n",
       "      <td>NaN</td>\n",
       "      <td>NaN</td>\n",
       "      <td>NaN</td>\n",
       "      <td>NaN</td>\n",
       "      <td>NaN</td>\n",
       "      <td>2.472714e+06</td>\n",
       "      <td>426.530053</td>\n",
       "      <td>1.490859e+05</td>\n",
       "      <td>0.0</td>\n",
       "      <td>0.0</td>\n",
       "      <td>1983.433509</td>\n",
       "      <td>931.669155</td>\n",
       "    </tr>\n",
       "    <tr>\n",
       "      <th>std</th>\n",
       "      <td>NaN</td>\n",
       "      <td>NaN</td>\n",
       "      <td>NaN</td>\n",
       "      <td>NaN</td>\n",
       "      <td>NaN</td>\n",
       "      <td>NaN</td>\n",
       "      <td>NaN</td>\n",
       "      <td>NaN</td>\n",
       "      <td>1.211006e+08</td>\n",
       "      <td>434.433476</td>\n",
       "      <td>1.767002e+07</td>\n",
       "      <td>0.0</td>\n",
       "      <td>0.0</td>\n",
       "      <td>3703.570506</td>\n",
       "      <td>3464.995378</td>\n",
       "    </tr>\n",
       "    <tr>\n",
       "      <th>min</th>\n",
       "      <td>NaN</td>\n",
       "      <td>NaN</td>\n",
       "      <td>NaN</td>\n",
       "      <td>NaN</td>\n",
       "      <td>NaN</td>\n",
       "      <td>NaN</td>\n",
       "      <td>NaN</td>\n",
       "      <td>NaN</td>\n",
       "      <td>-2.128381e+09</td>\n",
       "      <td>-1.000000</td>\n",
       "      <td>0.000000e+00</td>\n",
       "      <td>0.0</td>\n",
       "      <td>0.0</td>\n",
       "      <td>500.000000</td>\n",
       "      <td>100.000000</td>\n",
       "    </tr>\n",
       "    <tr>\n",
       "      <th>25%</th>\n",
       "      <td>NaN</td>\n",
       "      <td>NaN</td>\n",
       "      <td>NaN</td>\n",
       "      <td>NaN</td>\n",
       "      <td>NaN</td>\n",
       "      <td>NaN</td>\n",
       "      <td>NaN</td>\n",
       "      <td>NaN</td>\n",
       "      <td>3.338425e+04</td>\n",
       "      <td>60.000000</td>\n",
       "      <td>3.700000e+01</td>\n",
       "      <td>0.0</td>\n",
       "      <td>0.0</td>\n",
       "      <td>500.000000</td>\n",
       "      <td>500.000000</td>\n",
       "    </tr>\n",
       "    <tr>\n",
       "      <th>50%</th>\n",
       "      <td>NaN</td>\n",
       "      <td>NaN</td>\n",
       "      <td>NaN</td>\n",
       "      <td>NaN</td>\n",
       "      <td>NaN</td>\n",
       "      <td>NaN</td>\n",
       "      <td>NaN</td>\n",
       "      <td>NaN</td>\n",
       "      <td>1.733550e+05</td>\n",
       "      <td>246.000000</td>\n",
       "      <td>5.200000e+01</td>\n",
       "      <td>0.0</td>\n",
       "      <td>0.0</td>\n",
       "      <td>1000.000000</td>\n",
       "      <td>600.000000</td>\n",
       "    </tr>\n",
       "    <tr>\n",
       "      <th>75%</th>\n",
       "      <td>NaN</td>\n",
       "      <td>NaN</td>\n",
       "      <td>NaN</td>\n",
       "      <td>NaN</td>\n",
       "      <td>NaN</td>\n",
       "      <td>NaN</td>\n",
       "      <td>NaN</td>\n",
       "      <td>NaN</td>\n",
       "      <td>5.097605e+05</td>\n",
       "      <td>736.000000</td>\n",
       "      <td>7.300000e+01</td>\n",
       "      <td>0.0</td>\n",
       "      <td>0.0</td>\n",
       "      <td>2400.000000</td>\n",
       "      <td>1000.000000</td>\n",
       "    </tr>\n",
       "    <tr>\n",
       "      <th>max</th>\n",
       "      <td>NaN</td>\n",
       "      <td>NaN</td>\n",
       "      <td>NaN</td>\n",
       "      <td>NaN</td>\n",
       "      <td>NaN</td>\n",
       "      <td>NaN</td>\n",
       "      <td>NaN</td>\n",
       "      <td>NaN</td>\n",
       "      <td>2.139124e+09</td>\n",
       "      <td>1299.000000</td>\n",
       "      <td>2.123448e+09</td>\n",
       "      <td>0.0</td>\n",
       "      <td>0.0</td>\n",
       "      <td>189600.000000</td>\n",
       "      <td>755950.000000</td>\n",
       "    </tr>\n",
       "  </tbody>\n",
       "</table>\n",
       "</div>"
      ],
      "text/plain": [
       "        AbGroup                                   user_id  time_stamp  \\\n",
       "count    694482                                    694482      694482   \n",
       "unique        2                                    110608          25   \n",
       "top     Control  3374cb32638d0667e76654df698c06c437c8aeaf  2020-03-01   \n",
       "freq     556675                                        37       33944   \n",
       "mean        NaN                                       NaN         NaN   \n",
       "std         NaN                                       NaN         NaN   \n",
       "min         NaN                                       NaN         NaN   \n",
       "25%         NaN                                       NaN         NaN   \n",
       "50%         NaN                                       NaN         NaN   \n",
       "75%         NaN                                       NaN         NaN   \n",
       "max         NaN                                       NaN         NaN   \n",
       "\n",
       "       install_date     event_name platform network_name  \\\n",
       "count        694482         694482   694482       694482   \n",
       "unique          687              1        1            2   \n",
       "top      2020-02-14  ResourceSpend   itunes         Paid   \n",
       "freq           8707         694482   694482       438724   \n",
       "mean            NaN            NaN      NaN          NaN   \n",
       "std             NaN            NaN      NaN          NaN   \n",
       "min             NaN            NaN      NaN          NaN   \n",
       "25%             NaN            NaN      NaN          NaN   \n",
       "50%             NaN            NaN      NaN          NaN   \n",
       "75%             NaN            NaN      NaN          NaN   \n",
       "max             NaN            NaN      NaN          NaN   \n",
       "\n",
       "                                             country_name    InGameTime  \\\n",
       "count                                              694482  6.944820e+05   \n",
       "unique                                                115           NaN   \n",
       "top     United Kingdom of Great Britain and Northern I...           NaN   \n",
       "freq                                               185578           NaN   \n",
       "mean                                                  NaN  2.472714e+06   \n",
       "std                                                   NaN  1.211006e+08   \n",
       "min                                                   NaN -2.128381e+09   \n",
       "25%                                                   NaN  3.338425e+04   \n",
       "50%                                                   NaN  1.733550e+05   \n",
       "75%                                                   NaN  5.097605e+05   \n",
       "max                                                   NaN  2.139124e+09   \n",
       "\n",
       "        LastCompletedLevel  avg_energy_amount  revenue_on_event  \\\n",
       "count        694482.000000       6.944820e+05          694482.0   \n",
       "unique                 NaN                NaN               NaN   \n",
       "top                    NaN                NaN               NaN   \n",
       "freq                   NaN                NaN               NaN   \n",
       "mean            426.530053       1.490859e+05               0.0   \n",
       "std             434.433476       1.767002e+07               0.0   \n",
       "min              -1.000000       0.000000e+00               0.0   \n",
       "25%              60.000000       3.700000e+01               0.0   \n",
       "50%             246.000000       5.200000e+01               0.0   \n",
       "75%             736.000000       7.300000e+01               0.0   \n",
       "max            1299.000000       2.123448e+09               0.0   \n",
       "\n",
       "        revenue_on_other_activities  gold_on_event  gold_on_other_activities  \n",
       "count                      694482.0   45254.000000             167420.000000  \n",
       "unique                          NaN            NaN                       NaN  \n",
       "top                             NaN            NaN                       NaN  \n",
       "freq                            NaN            NaN                       NaN  \n",
       "mean                            0.0    1983.433509                931.669155  \n",
       "std                             0.0    3703.570506               3464.995378  \n",
       "min                             0.0     500.000000                100.000000  \n",
       "25%                             0.0     500.000000                500.000000  \n",
       "50%                             0.0    1000.000000                600.000000  \n",
       "75%                             0.0    2400.000000               1000.000000  \n",
       "max                             0.0  189600.000000             755950.000000  "
      ]
     },
     "execution_count": 12,
     "metadata": {},
     "output_type": "execute_result"
    }
   ],
   "source": [
    "df.describe(include = 'all')"
   ]
  },
  {
   "cell_type": "markdown",
   "id": "90360d2f",
   "metadata": {},
   "source": [
    "We can see, that in colums: revenue_on_event, revenue_on_other_activities, platform, event_name there is no useful information for us, all rows have the same value. Let's drop them."
   ]
  },
  {
   "cell_type": "code",
   "execution_count": 13,
   "id": "7a07d148",
   "metadata": {},
   "outputs": [],
   "source": [
    "df.drop(columns = ['revenue_on_event', 'revenue_on_other_activities', 'platform', 'event_name'], inplace = True)"
   ]
  },
  {
   "cell_type": "code",
   "execution_count": 14,
   "id": "e11b5a02",
   "metadata": {},
   "outputs": [
    {
     "data": {
      "text/html": [
       "<div>\n",
       "<style scoped>\n",
       "    .dataframe tbody tr th:only-of-type {\n",
       "        vertical-align: middle;\n",
       "    }\n",
       "\n",
       "    .dataframe tbody tr th {\n",
       "        vertical-align: top;\n",
       "    }\n",
       "\n",
       "    .dataframe thead th {\n",
       "        text-align: right;\n",
       "    }\n",
       "</style>\n",
       "<table border=\"1\" class=\"dataframe\">\n",
       "  <thead>\n",
       "    <tr style=\"text-align: right;\">\n",
       "      <th></th>\n",
       "      <th>AbGroup</th>\n",
       "      <th>user_id</th>\n",
       "      <th>time_stamp</th>\n",
       "      <th>install_date</th>\n",
       "      <th>network_name</th>\n",
       "      <th>country_name</th>\n",
       "      <th>InGameTime</th>\n",
       "      <th>LastCompletedLevel</th>\n",
       "      <th>avg_energy_amount</th>\n",
       "      <th>gold_on_event</th>\n",
       "      <th>gold_on_other_activities</th>\n",
       "    </tr>\n",
       "  </thead>\n",
       "  <tbody>\n",
       "    <tr>\n",
       "      <th>0</th>\n",
       "      <td>Control</td>\n",
       "      <td>d60ebcaecff2dc1d360a8a41271e6fd8a902c107</td>\n",
       "      <td>2020-02-10</td>\n",
       "      <td>2019-11-10</td>\n",
       "      <td>Organic</td>\n",
       "      <td>United Kingdom of Great Britain and Northern I...</td>\n",
       "      <td>276180</td>\n",
       "      <td>345</td>\n",
       "      <td>54.0</td>\n",
       "      <td>NaN</td>\n",
       "      <td>NaN</td>\n",
       "    </tr>\n",
       "    <tr>\n",
       "      <th>1</th>\n",
       "      <td>Test</td>\n",
       "      <td>f6e385b0ab43d5aea9cfcc408aa84029a4ea5fdb</td>\n",
       "      <td>2020-03-04</td>\n",
       "      <td>2019-11-05</td>\n",
       "      <td>Paid</td>\n",
       "      <td>United States of America</td>\n",
       "      <td>166095</td>\n",
       "      <td>199</td>\n",
       "      <td>50.0</td>\n",
       "      <td>NaN</td>\n",
       "      <td>NaN</td>\n",
       "    </tr>\n",
       "    <tr>\n",
       "      <th>2</th>\n",
       "      <td>Control</td>\n",
       "      <td>a4c80c8524e2c11cc238553d7b02da01ce2aad66</td>\n",
       "      <td>2020-02-26</td>\n",
       "      <td>2020-01-02</td>\n",
       "      <td>Paid</td>\n",
       "      <td>Canada</td>\n",
       "      <td>240986</td>\n",
       "      <td>84</td>\n",
       "      <td>39.0</td>\n",
       "      <td>NaN</td>\n",
       "      <td>NaN</td>\n",
       "    </tr>\n",
       "    <tr>\n",
       "      <th>3</th>\n",
       "      <td>Control</td>\n",
       "      <td>7ea2e4599ae33760c307e254839317bd5b17a63c</td>\n",
       "      <td>2020-02-21</td>\n",
       "      <td>2020-01-13</td>\n",
       "      <td>Organic</td>\n",
       "      <td>France</td>\n",
       "      <td>989822</td>\n",
       "      <td>1176</td>\n",
       "      <td>21.0</td>\n",
       "      <td>NaN</td>\n",
       "      <td>NaN</td>\n",
       "    </tr>\n",
       "    <tr>\n",
       "      <th>4</th>\n",
       "      <td>Control</td>\n",
       "      <td>6495168982929360dc6d84bf0766d8963a7ddc41</td>\n",
       "      <td>2020-02-18</td>\n",
       "      <td>2020-02-05</td>\n",
       "      <td>Paid</td>\n",
       "      <td>Spain</td>\n",
       "      <td>52106</td>\n",
       "      <td>66</td>\n",
       "      <td>43.0</td>\n",
       "      <td>500.0</td>\n",
       "      <td>NaN</td>\n",
       "    </tr>\n",
       "  </tbody>\n",
       "</table>\n",
       "</div>"
      ],
      "text/plain": [
       "   AbGroup                                   user_id  time_stamp install_date  \\\n",
       "0  Control  d60ebcaecff2dc1d360a8a41271e6fd8a902c107  2020-02-10   2019-11-10   \n",
       "1     Test  f6e385b0ab43d5aea9cfcc408aa84029a4ea5fdb  2020-03-04   2019-11-05   \n",
       "2  Control  a4c80c8524e2c11cc238553d7b02da01ce2aad66  2020-02-26   2020-01-02   \n",
       "3  Control  7ea2e4599ae33760c307e254839317bd5b17a63c  2020-02-21   2020-01-13   \n",
       "4  Control  6495168982929360dc6d84bf0766d8963a7ddc41  2020-02-18   2020-02-05   \n",
       "\n",
       "  network_name                                       country_name  InGameTime  \\\n",
       "0      Organic  United Kingdom of Great Britain and Northern I...      276180   \n",
       "1         Paid                           United States of America      166095   \n",
       "2         Paid                                             Canada      240986   \n",
       "3      Organic                                             France      989822   \n",
       "4         Paid                                              Spain       52106   \n",
       "\n",
       "   LastCompletedLevel  avg_energy_amount  gold_on_event  \\\n",
       "0                 345               54.0            NaN   \n",
       "1                 199               50.0            NaN   \n",
       "2                  84               39.0            NaN   \n",
       "3                1176               21.0            NaN   \n",
       "4                  66               43.0          500.0   \n",
       "\n",
       "   gold_on_other_activities  \n",
       "0                       NaN  \n",
       "1                       NaN  \n",
       "2                       NaN  \n",
       "3                       NaN  \n",
       "4                       NaN  "
      ]
     },
     "execution_count": 14,
     "metadata": {},
     "output_type": "execute_result"
    }
   ],
   "source": [
    "df.head()"
   ]
  },
  {
   "cell_type": "code",
   "execution_count": 15,
   "id": "aa979d4f",
   "metadata": {},
   "outputs": [
    {
     "data": {
      "text/plain": [
       "United Kingdom of Great Britain and Northern Ireland    0.267218\n",
       "Germany                                                 0.244886\n",
       "France                                                  0.227178\n",
       "Canada                                                  0.122854\n",
       "Spain                                                   0.112397\n",
       "Czech Republic                                          0.017070\n",
       "United States of America                                0.001002\n",
       "Iran (Islamic Republic of)                              0.000756\n",
       "Reunion                                                 0.000439\n",
       "Netherlands                                             0.000356\n",
       "Name: country_name, dtype: float64"
      ]
     },
     "execution_count": 15,
     "metadata": {},
     "output_type": "execute_result"
    }
   ],
   "source": [
    "df['country_name'].value_counts(normalize = True)[:10]"
   ]
  },
  {
   "cell_type": "markdown",
   "id": "06cfed83",
   "metadata": {},
   "source": [
    "The number of users from countries starting from the USA is less than 0.1%, let's put them in group: other."
   ]
  },
  {
   "cell_type": "code",
   "execution_count": 16,
   "id": "6ed643fb",
   "metadata": {},
   "outputs": [],
   "source": [
    "countries_to_stay = df['country_name'].value_counts(normalize = True)[:6].index"
   ]
  },
  {
   "cell_type": "code",
   "execution_count": 17,
   "id": "68b33b5e",
   "metadata": {},
   "outputs": [],
   "source": [
    "df['country_name'] = df['country_name'].apply(lambda x: x if (x in (countries_to_stay)) else 'other')"
   ]
  },
  {
   "cell_type": "code",
   "execution_count": 18,
   "id": "6542b983",
   "metadata": {},
   "outputs": [
    {
     "data": {
      "text/plain": [
       "United Kingdom of Great Britain and Northern Ireland    185578\n",
       "Germany                                                 170069\n",
       "France                                                  157771\n",
       "Canada                                                   85320\n",
       "Spain                                                    78058\n",
       "Czech Republic                                           11855\n",
       "other                                                     5831\n",
       "Name: country_name, dtype: int64"
      ]
     },
     "execution_count": 18,
     "metadata": {},
     "output_type": "execute_result"
    }
   ],
   "source": [
    "df['country_name'].value_counts()"
   ]
  },
  {
   "cell_type": "code",
   "execution_count": 19,
   "id": "64911978",
   "metadata": {},
   "outputs": [],
   "source": [
    "df_control = df[df['AbGroup'] == 'Control']\n",
    "df_test = df[df['AbGroup'] == 'Test']"
   ]
  },
  {
   "cell_type": "code",
   "execution_count": 20,
   "id": "c75bb5ba",
   "metadata": {},
   "outputs": [],
   "source": [
    "countries_control = df_control['country_name'].value_counts()\n",
    "countries_test = df_test['country_name'].value_counts()"
   ]
  },
  {
   "cell_type": "code",
   "execution_count": 21,
   "id": "6b085a6b",
   "metadata": {},
   "outputs": [
    {
     "data": {
      "image/png": "[encoded data removed]",
      "text/plain": [
       "<Figure size 864x360 with 2 Axes>"
      ]
     },
     "metadata": {},
     "output_type": "display_data"
    }
   ],
   "source": [
    "plt.figure(figsize = (12, 5))\n",
    "plt.subplot(1, 2, 1).set_title('Control group')\n",
    "plt.pie(countries_control, labels = countries_control.index)\n",
    "\n",
    "plt.subplot(1, 2, 2).set_title('Test group')\n",
    "plt.pie(countries_test, labels = countries_test.index)\n",
    "plt.show()"
   ]
  },
  {
   "cell_type": "code",
   "execution_count": 22,
   "id": "c74808c0",
   "metadata": {},
   "outputs": [
    {
     "data": {
      "image/png": "[encoded data removed]",
      "text/plain": [
       "<Figure size 864x360 with 2 Axes>"
      ]
     },
     "metadata": {},
     "output_type": "display_data"
    }
   ],
   "source": [
    "network_control = df_control['network_name'].value_counts()\n",
    "network_test = df_test['network_name'].value_counts()\n",
    "\n",
    "plt.figure(figsize = (12, 5))\n",
    "plt.subplot(1, 2, 1).set_title('Control group')\n",
    "plt.pie(network_control, labels = network_control.index)\n",
    "\n",
    "plt.subplot(1, 2, 2).set_title('Test group')\n",
    "plt.pie(network_test, labels = network_test.index)\n",
    "plt.show()"
   ]
  },
  {
   "cell_type": "code",
   "execution_count": 23,
   "id": "9021f509",
   "metadata": {},
   "outputs": [],
   "source": [
    "df_columns = ['InGameTime', 'LastCompletedLevel', 'avg_energy_amount']"
   ]
  },
  {
   "cell_type": "code",
   "execution_count": 24,
   "id": "c0b77a1c",
   "metadata": {},
   "outputs": [
    {
     "data": {
      "text/html": [
       "<div>\n",
       "<style scoped>\n",
       "    .dataframe tbody tr th:only-of-type {\n",
       "        vertical-align: middle;\n",
       "    }\n",
       "\n",
       "    .dataframe tbody tr th {\n",
       "        vertical-align: top;\n",
       "    }\n",
       "\n",
       "    .dataframe thead th {\n",
       "        text-align: right;\n",
       "    }\n",
       "</style>\n",
       "<table border=\"1\" class=\"dataframe\">\n",
       "  <thead>\n",
       "    <tr style=\"text-align: right;\">\n",
       "      <th></th>\n",
       "      <th>InGameTime</th>\n",
       "      <th>LastCompletedLevel</th>\n",
       "      <th>avg_energy_amount</th>\n",
       "    </tr>\n",
       "  </thead>\n",
       "  <tbody>\n",
       "    <tr>\n",
       "      <th>count</th>\n",
       "      <td>5.566750e+05</td>\n",
       "      <td>556675.000000</td>\n",
       "      <td>5.566750e+05</td>\n",
       "    </tr>\n",
       "    <tr>\n",
       "      <th>mean</th>\n",
       "      <td>2.300563e+06</td>\n",
       "      <td>425.446824</td>\n",
       "      <td>1.137473e+05</td>\n",
       "    </tr>\n",
       "    <tr>\n",
       "      <th>std</th>\n",
       "      <td>1.207453e+08</td>\n",
       "      <td>433.408672</td>\n",
       "      <td>1.545834e+07</td>\n",
       "    </tr>\n",
       "    <tr>\n",
       "      <th>min</th>\n",
       "      <td>-2.128381e+09</td>\n",
       "      <td>-1.000000</td>\n",
       "      <td>0.000000e+00</td>\n",
       "    </tr>\n",
       "    <tr>\n",
       "      <th>25%</th>\n",
       "      <td>3.323500e+04</td>\n",
       "      <td>59.000000</td>\n",
       "      <td>3.700000e+01</td>\n",
       "    </tr>\n",
       "    <tr>\n",
       "      <th>50%</th>\n",
       "      <td>1.732190e+05</td>\n",
       "      <td>245.000000</td>\n",
       "      <td>5.200000e+01</td>\n",
       "    </tr>\n",
       "    <tr>\n",
       "      <th>75%</th>\n",
       "      <td>5.056500e+05</td>\n",
       "      <td>734.000000</td>\n",
       "      <td>7.300000e+01</td>\n",
       "    </tr>\n",
       "    <tr>\n",
       "      <th>max</th>\n",
       "      <td>2.139124e+09</td>\n",
       "      <td>1299.000000</td>\n",
       "      <td>2.123448e+09</td>\n",
       "    </tr>\n",
       "  </tbody>\n",
       "</table>\n",
       "</div>"
      ],
      "text/plain": [
       "         InGameTime  LastCompletedLevel  avg_energy_amount\n",
       "count  5.566750e+05       556675.000000       5.566750e+05\n",
       "mean   2.300563e+06          425.446824       1.137473e+05\n",
       "std    1.207453e+08          433.408672       1.545834e+07\n",
       "min   -2.128381e+09           -1.000000       0.000000e+00\n",
       "25%    3.323500e+04           59.000000       3.700000e+01\n",
       "50%    1.732190e+05          245.000000       5.200000e+01\n",
       "75%    5.056500e+05          734.000000       7.300000e+01\n",
       "max    2.139124e+09         1299.000000       2.123448e+09"
      ]
     },
     "execution_count": 24,
     "metadata": {},
     "output_type": "execute_result"
    }
   ],
   "source": [
    "df_control[df_columns].describe()"
   ]
  },
  {
   "cell_type": "code",
   "execution_count": 25,
   "id": "ec933e31",
   "metadata": {},
   "outputs": [
    {
     "data": {
      "text/html": [
       "<div>\n",
       "<style scoped>\n",
       "    .dataframe tbody tr th:only-of-type {\n",
       "        vertical-align: middle;\n",
       "    }\n",
       "\n",
       "    .dataframe tbody tr th {\n",
       "        vertical-align: top;\n",
       "    }\n",
       "\n",
       "    .dataframe thead th {\n",
       "        text-align: right;\n",
       "    }\n",
       "</style>\n",
       "<table border=\"1\" class=\"dataframe\">\n",
       "  <thead>\n",
       "    <tr style=\"text-align: right;\">\n",
       "      <th></th>\n",
       "      <th>InGameTime</th>\n",
       "      <th>LastCompletedLevel</th>\n",
       "      <th>avg_energy_amount</th>\n",
       "    </tr>\n",
       "  </thead>\n",
       "  <tbody>\n",
       "    <tr>\n",
       "      <th>count</th>\n",
       "      <td>1.378070e+05</td>\n",
       "      <td>137807.000000</td>\n",
       "      <td>1.378070e+05</td>\n",
       "    </tr>\n",
       "    <tr>\n",
       "      <th>mean</th>\n",
       "      <td>3.168126e+06</td>\n",
       "      <td>430.905781</td>\n",
       "      <td>2.918374e+05</td>\n",
       "    </tr>\n",
       "    <tr>\n",
       "      <th>std</th>\n",
       "      <td>1.225232e+08</td>\n",
       "      <td>438.523175</td>\n",
       "      <td>2.466136e+07</td>\n",
       "    </tr>\n",
       "    <tr>\n",
       "      <th>min</th>\n",
       "      <td>-2.120439e+09</td>\n",
       "      <td>-1.000000</td>\n",
       "      <td>0.000000e+00</td>\n",
       "    </tr>\n",
       "    <tr>\n",
       "      <th>25%</th>\n",
       "      <td>3.393900e+04</td>\n",
       "      <td>61.000000</td>\n",
       "      <td>3.700000e+01</td>\n",
       "    </tr>\n",
       "    <tr>\n",
       "      <th>50%</th>\n",
       "      <td>1.740630e+05</td>\n",
       "      <td>249.000000</td>\n",
       "      <td>5.200000e+01</td>\n",
       "    </tr>\n",
       "    <tr>\n",
       "      <th>75%</th>\n",
       "      <td>5.273240e+05</td>\n",
       "      <td>745.000000</td>\n",
       "      <td>7.300000e+01</td>\n",
       "    </tr>\n",
       "    <tr>\n",
       "      <th>max</th>\n",
       "      <td>2.138080e+09</td>\n",
       "      <td>1299.000000</td>\n",
       "      <td>2.101007e+09</td>\n",
       "    </tr>\n",
       "  </tbody>\n",
       "</table>\n",
       "</div>"
      ],
      "text/plain": [
       "         InGameTime  LastCompletedLevel  avg_energy_amount\n",
       "count  1.378070e+05       137807.000000       1.378070e+05\n",
       "mean   3.168126e+06          430.905781       2.918374e+05\n",
       "std    1.225232e+08          438.523175       2.466136e+07\n",
       "min   -2.120439e+09           -1.000000       0.000000e+00\n",
       "25%    3.393900e+04           61.000000       3.700000e+01\n",
       "50%    1.740630e+05          249.000000       5.200000e+01\n",
       "75%    5.273240e+05          745.000000       7.300000e+01\n",
       "max    2.138080e+09         1299.000000       2.101007e+09"
      ]
     },
     "execution_count": 25,
     "metadata": {},
     "output_type": "execute_result"
    }
   ],
   "source": [
    "df_test[df_columns].describe()"
   ]
  },
  {
   "cell_type": "markdown",
   "id": "3a900116",
   "metadata": {},
   "source": [
    "### 1.3. Time of the experiment"
   ]
  },
  {
   "cell_type": "code",
   "execution_count": 26,
   "id": "138c14c5",
   "metadata": {},
   "outputs": [
    {
     "data": {
      "image/png": "[encoded data removed]",
      "text/plain": [
       "<Figure size 864x360 with 2 Axes>"
      ]
     },
     "metadata": {
      "needs_background": "light"
     },
     "output_type": "display_data"
    }
   ],
   "source": [
    "plt.figure(figsize = (12, 5))\n",
    "plt.subplot(1, 2, 1)\n",
    "plt.hist(df_control['time_stamp'], bins = 25, color = 'b', label = 'Control group')\n",
    "plt.legend()\n",
    "\n",
    "plt.subplot(1, 2, 2)\n",
    "plt.hist(df_test['time_stamp'], bins = 25, color = 'r', label = 'Test group')\n",
    "plt.legend()\n",
    "\n",
    "plt.show()"
   ]
  },
  {
   "cell_type": "code",
   "execution_count": 27,
   "id": "f3bd9d14",
   "metadata": {},
   "outputs": [
    {
     "data": {
      "text/plain": [
       "min    2020-02-09\n",
       "max    2020-03-04\n",
       "Name: time_stamp, dtype: object"
      ]
     },
     "execution_count": 27,
     "metadata": {},
     "output_type": "execute_result"
    }
   ],
   "source": [
    "df_control['time_stamp'].agg(['min', 'max'])"
   ]
  },
  {
   "cell_type": "code",
   "execution_count": 28,
   "id": "61384a1f",
   "metadata": {},
   "outputs": [
    {
     "data": {
      "text/plain": [
       "min    2020-02-09\n",
       "max    2020-03-04\n",
       "Name: time_stamp, dtype: object"
      ]
     },
     "execution_count": 28,
     "metadata": {},
     "output_type": "execute_result"
    }
   ],
   "source": [
    "df_test['time_stamp'].agg(['min', 'max'])"
   ]
  },
  {
   "cell_type": "code",
   "execution_count": 29,
   "id": "5ea9e74a",
   "metadata": {},
   "outputs": [
    {
     "name": "stdout",
     "output_type": "stream",
     "text": [
      "The experiment lasted from 2020-02-09 to 2020-03-04\n"
     ]
    }
   ],
   "source": [
    "print('The experiment lasted from {} to {}'.format(df_test['time_stamp'].min(), df_test['time_stamp'].max()))"
   ]
  },
  {
   "cell_type": "markdown",
   "id": "08e8d317",
   "metadata": {},
   "source": [
    "Experiment is conducted as expected\n",
    "\n",
    "Data collection method was correct"
   ]
  },
  {
   "cell_type": "markdown",
   "id": "ec94da94",
   "metadata": {},
   "source": [
    "# 2. Analysis"
   ]
  },
  {
   "cell_type": "markdown",
   "id": "642394ff",
   "metadata": {},
   "source": [
    "### 2.1. Conversion rate of the event"
   ]
  },
  {
   "cell_type": "markdown",
   "id": "80756859",
   "metadata": {},
   "source": [
    "Exploration of how the conversion rate of gold_on_event, gold_on_other_activities has changed"
   ]
  },
  {
   "cell_type": "code",
   "execution_count": 30,
   "id": "e6326e8c",
   "metadata": {},
   "outputs": [],
   "source": [
    "df['event_converted'] = df['gold_on_event'].apply(lambda x: True if (x > 0) else False)"
   ]
  },
  {
   "cell_type": "code",
   "execution_count": 31,
   "id": "5563ff6d",
   "metadata": {},
   "outputs": [
    {
     "data": {
      "text/plain": [
       "AbGroup  event_converted\n",
       "Control  False              520371\n",
       "         True                36304\n",
       "Test     False              128857\n",
       "         True                 8950\n",
       "Name: event_converted, dtype: int64"
      ]
     },
     "execution_count": 31,
     "metadata": {},
     "output_type": "execute_result"
    }
   ],
   "source": [
    "df.groupby(by = 'AbGroup')['event_converted'].value_counts()"
   ]
  },
  {
   "cell_type": "code",
   "execution_count": 32,
   "id": "394d428e",
   "metadata": {},
   "outputs": [],
   "source": [
    "df_result = df.groupby(by = 'AbGroup')['event_converted'].agg(['sum', 'count']).reset_index()"
   ]
  },
  {
   "cell_type": "code",
   "execution_count": 33,
   "id": "7bf985fb",
   "metadata": {},
   "outputs": [],
   "source": [
    "df_result['cr'] = df_result['sum']/df_result['count']"
   ]
  },
  {
   "cell_type": "code",
   "execution_count": 34,
   "id": "22ade8e1",
   "metadata": {},
   "outputs": [
    {
     "data": {
      "text/html": [
       "<div>\n",
       "<style scoped>\n",
       "    .dataframe tbody tr th:only-of-type {\n",
       "        vertical-align: middle;\n",
       "    }\n",
       "\n",
       "    .dataframe tbody tr th {\n",
       "        vertical-align: top;\n",
       "    }\n",
       "\n",
       "    .dataframe thead th {\n",
       "        text-align: right;\n",
       "    }\n",
       "</style>\n",
       "<table border=\"1\" class=\"dataframe\">\n",
       "  <thead>\n",
       "    <tr style=\"text-align: right;\">\n",
       "      <th></th>\n",
       "      <th>AbGroup</th>\n",
       "      <th>sum</th>\n",
       "      <th>count</th>\n",
       "      <th>cr</th>\n",
       "    </tr>\n",
       "  </thead>\n",
       "  <tbody>\n",
       "    <tr>\n",
       "      <th>0</th>\n",
       "      <td>Control</td>\n",
       "      <td>36304</td>\n",
       "      <td>556675</td>\n",
       "      <td>0.065216</td>\n",
       "    </tr>\n",
       "    <tr>\n",
       "      <th>1</th>\n",
       "      <td>Test</td>\n",
       "      <td>8950</td>\n",
       "      <td>137807</td>\n",
       "      <td>0.064946</td>\n",
       "    </tr>\n",
       "  </tbody>\n",
       "</table>\n",
       "</div>"
      ],
      "text/plain": [
       "   AbGroup    sum   count        cr\n",
       "0  Control  36304  556675  0.065216\n",
       "1     Test   8950  137807  0.064946"
      ]
     },
     "execution_count": 34,
     "metadata": {},
     "output_type": "execute_result"
    }
   ],
   "source": [
    "df_result"
   ]
  },
  {
   "cell_type": "code",
   "execution_count": 35,
   "id": "b888a5b5",
   "metadata": {},
   "outputs": [],
   "source": [
    "def proportions_diff_z_stat_ind(sample1, sample2):\n",
    "    n1 = len(sample1)\n",
    "    n2 = len(sample2)\n",
    "    \n",
    "    p1 = float(sum(sample1))/n1\n",
    "    p2 = float(sum(sample2))/n2\n",
    "    p = float(p1*n1 + p2*n2) / (n1 + n2)\n",
    "    \n",
    "    return (p1 - p2) / math.sqrt(p * (1-p) *(1./n1 + 1./n2))"
   ]
  },
  {
   "cell_type": "code",
   "execution_count": 36,
   "id": "c8669eb9",
   "metadata": {},
   "outputs": [],
   "source": [
    "def proportions_diff_z_test(z_stat):\n",
    "    return 2 * (1 - scipy.stats.norm.cdf(abs(z_stat)))"
   ]
  },
  {
   "cell_type": "code",
   "execution_count": 37,
   "id": "566a5772",
   "metadata": {},
   "outputs": [],
   "source": [
    "z_stat = proportions_diff_z_stat_ind(df[df['AbGroup'] == 'Control']['event_converted'], df[df['AbGroup'] == 'Test']['event_converted'])"
   ]
  },
  {
   "cell_type": "code",
   "execution_count": 38,
   "id": "97fa3850",
   "metadata": {},
   "outputs": [
    {
     "name": "stdout",
     "output_type": "stream",
     "text": [
      "p-value:  0.7162824368421443\n"
     ]
    }
   ],
   "source": [
    "print('p-value: ', proportions_diff_z_test(z_stat))"
   ]
  },
  {
   "cell_type": "markdown",
   "id": "dd992cf6",
   "metadata": {},
   "source": [
    "Conversion rate (gold_on_event) did not change statistically significant"
   ]
  },
  {
   "cell_type": "code",
   "execution_count": 39,
   "id": "c45fd0a3",
   "metadata": {},
   "outputs": [],
   "source": [
    "df['other_activities_converted'] = df['gold_on_other_activities'].apply(lambda x: True if (x > 0) else False)"
   ]
  },
  {
   "cell_type": "code",
   "execution_count": 40,
   "id": "d40c2b15",
   "metadata": {},
   "outputs": [],
   "source": [
    "df_result = df.groupby(by = 'AbGroup')['other_activities_converted'].agg(['sum', 'count']).reset_index()"
   ]
  },
  {
   "cell_type": "code",
   "execution_count": 41,
   "id": "6f968d12",
   "metadata": {},
   "outputs": [
    {
     "data": {
      "text/html": [
       "<div>\n",
       "<style scoped>\n",
       "    .dataframe tbody tr th:only-of-type {\n",
       "        vertical-align: middle;\n",
       "    }\n",
       "\n",
       "    .dataframe tbody tr th {\n",
       "        vertical-align: top;\n",
       "    }\n",
       "\n",
       "    .dataframe thead th {\n",
       "        text-align: right;\n",
       "    }\n",
       "</style>\n",
       "<table border=\"1\" class=\"dataframe\">\n",
       "  <thead>\n",
       "    <tr style=\"text-align: right;\">\n",
       "      <th></th>\n",
       "      <th>AbGroup</th>\n",
       "      <th>sum</th>\n",
       "      <th>count</th>\n",
       "      <th>cr</th>\n",
       "    </tr>\n",
       "  </thead>\n",
       "  <tbody>\n",
       "    <tr>\n",
       "      <th>0</th>\n",
       "      <td>Control</td>\n",
       "      <td>134230</td>\n",
       "      <td>556675</td>\n",
       "      <td>0.241128</td>\n",
       "    </tr>\n",
       "    <tr>\n",
       "      <th>1</th>\n",
       "      <td>Test</td>\n",
       "      <td>33190</td>\n",
       "      <td>137807</td>\n",
       "      <td>0.240844</td>\n",
       "    </tr>\n",
       "  </tbody>\n",
       "</table>\n",
       "</div>"
      ],
      "text/plain": [
       "   AbGroup     sum   count        cr\n",
       "0  Control  134230  556675  0.241128\n",
       "1     Test   33190  137807  0.240844"
      ]
     },
     "execution_count": 41,
     "metadata": {},
     "output_type": "execute_result"
    }
   ],
   "source": [
    "df_result['cr'] = df_result['sum']/df_result['count']\n",
    "df_result"
   ]
  },
  {
   "cell_type": "code",
   "execution_count": 42,
   "id": "f6fdeda9",
   "metadata": {},
   "outputs": [],
   "source": [
    "z_stat = proportions_diff_z_stat_ind(df[df['AbGroup'] == 'Control']['other_activities_converted'], df[df['AbGroup'] == 'Test']['other_activities_converted'])"
   ]
  },
  {
   "cell_type": "code",
   "execution_count": 43,
   "id": "370d974d",
   "metadata": {},
   "outputs": [
    {
     "name": "stdout",
     "output_type": "stream",
     "text": [
      "p-value:  0.825317503876905\n"
     ]
    }
   ],
   "source": [
    "print('p-value: ', proportions_diff_z_test(z_stat))"
   ]
  },
  {
   "cell_type": "markdown",
   "id": "460fac61",
   "metadata": {},
   "source": [
    "Conversion rate (gold_on_other_activities) did not change statistically significant"
   ]
  },
  {
   "cell_type": "markdown",
   "id": "55ee5692",
   "metadata": {},
   "source": [
    "### 2.2. Hypothesis testing. Metric: gold_on_event"
   ]
  },
  {
   "cell_type": "markdown",
   "id": "a935f109",
   "metadata": {},
   "source": [
    "#### 2.2.1. Changes in Test and Control groups"
   ]
  },
  {
   "cell_type": "code",
   "execution_count": 44,
   "id": "0c4c8d24",
   "metadata": {},
   "outputs": [
    {
     "data": {
      "text/plain": [
       "count     36304.000000\n",
       "mean       1964.676069\n",
       "std        3546.453117\n",
       "min         500.000000\n",
       "25%         500.000000\n",
       "50%        1000.000000\n",
       "75%        2400.000000\n",
       "99%       12500.000000\n",
       "max      180500.000000\n",
       "Name: gold_on_event, dtype: float64"
      ]
     },
     "execution_count": 44,
     "metadata": {},
     "output_type": "execute_result"
    }
   ],
   "source": [
    "df_control['gold_on_event'].describe(percentiles = [0.25, 0.75, 0.99])"
   ]
  },
  {
   "cell_type": "code",
   "execution_count": 45,
   "id": "72ca8d73",
   "metadata": {},
   "outputs": [
    {
     "data": {
      "text/plain": [
       "count      8950.000000\n",
       "mean       2059.519553\n",
       "std        4281.553987\n",
       "min         500.000000\n",
       "25%         500.000000\n",
       "50%        1500.000000\n",
       "75%        2400.000000\n",
       "99%       12500.000000\n",
       "max      189600.000000\n",
       "Name: gold_on_event, dtype: float64"
      ]
     },
     "execution_count": 45,
     "metadata": {},
     "output_type": "execute_result"
    }
   ],
   "source": [
    "df_test['gold_on_event'].describe(percentiles = [0.25, 0.75, 0.99])"
   ]
  },
  {
   "cell_type": "code",
   "execution_count": 46,
   "id": "d6c368c2",
   "metadata": {},
   "outputs": [
    {
     "data": {
      "text/html": [
       "<div>\n",
       "<style scoped>\n",
       "    .dataframe tbody tr th:only-of-type {\n",
       "        vertical-align: middle;\n",
       "    }\n",
       "\n",
       "    .dataframe tbody tr th {\n",
       "        vertical-align: top;\n",
       "    }\n",
       "\n",
       "    .dataframe thead th {\n",
       "        text-align: right;\n",
       "    }\n",
       "</style>\n",
       "<table border=\"1\" class=\"dataframe\">\n",
       "  <thead>\n",
       "    <tr style=\"text-align: right;\">\n",
       "      <th></th>\n",
       "      <th>AbGroup</th>\n",
       "      <th>mean</th>\n",
       "      <th>median</th>\n",
       "    </tr>\n",
       "  </thead>\n",
       "  <tbody>\n",
       "    <tr>\n",
       "      <th>0</th>\n",
       "      <td>Control</td>\n",
       "      <td>1964.676069</td>\n",
       "      <td>1000.0</td>\n",
       "    </tr>\n",
       "    <tr>\n",
       "      <th>1</th>\n",
       "      <td>Test</td>\n",
       "      <td>2059.519553</td>\n",
       "      <td>1500.0</td>\n",
       "    </tr>\n",
       "  </tbody>\n",
       "</table>\n",
       "</div>"
      ],
      "text/plain": [
       "   AbGroup         mean  median\n",
       "0  Control  1964.676069  1000.0\n",
       "1     Test  2059.519553  1500.0"
      ]
     },
     "execution_count": 46,
     "metadata": {},
     "output_type": "execute_result"
    }
   ],
   "source": [
    "df[df['gold_on_event'].notna()].groupby('AbGroup')['gold_on_event'].agg(['mean', 'median']).reset_index()"
   ]
  },
  {
   "cell_type": "markdown",
   "id": "03de4c7f",
   "metadata": {},
   "source": [
    "We can observe, that mean and median increased in Test group. Let's check if it is statistically significant."
   ]
  },
  {
   "cell_type": "code",
   "execution_count": 47,
   "id": "d8def1a3",
   "metadata": {},
   "outputs": [
    {
     "data": {
      "text/plain": [
       "((array([-3.78309988, -3.55640642, -3.43187811, ...,  3.43187811,\n",
       "          3.55640642,  3.78309988]),\n",
       "  array([   500.,    500.,    500., ..., 156000., 165600., 189600.])),\n",
       " (2044.2217579613643, 2059.519553072625, 0.4772864364624959))"
      ]
     },
     "execution_count": 47,
     "metadata": {},
     "output_type": "execute_result"
    },
    {
     "data": {
      "image/png": "[encoded data removed]",
      "text/plain": [
       "<Figure size 432x288 with 1 Axes>"
      ]
     },
     "metadata": {
      "needs_background": "light"
     },
     "output_type": "display_data"
    }
   ],
   "source": [
    "scipy.stats.probplot(df_test[df_test['gold_on_event'].notna()]['gold_on_event'], dist = 'norm', plot = plt)"
   ]
  },
  {
   "cell_type": "markdown",
   "id": "d90b1077",
   "metadata": {},
   "source": [
    "The distibution of gold_on_event is not normal, let's use Mann-Whitney test."
   ]
  },
  {
   "cell_type": "markdown",
   "id": "812ea9e8",
   "metadata": {},
   "source": [
    "$H_0\\colon F_{X_1}(x) = F_{X_2}(x)$\n",
    "\n",
    "$H_1\\colon F_{X_1}(x) = F_{X_2}(x + \\Delta), \\Delta\\neq 0$"
   ]
  },
  {
   "cell_type": "code",
   "execution_count": 48,
   "id": "d852b51f",
   "metadata": {},
   "outputs": [
    {
     "data": {
      "text/plain": [
       "MannwhitneyuResult(statistic=157939550.0, pvalue=1.4700817713681111e-05)"
      ]
     },
     "execution_count": 48,
     "metadata": {},
     "output_type": "execute_result"
    }
   ],
   "source": [
    "scipy.stats.mannwhitneyu(df[(df['AbGroup'] == 'Control') & (df['gold_on_event'].notna())]['gold_on_event'], df[(df['AbGroup'] == 'Test') & (df['gold_on_event'].notna())]['gold_on_event'])"
   ]
  },
  {
   "cell_type": "markdown",
   "id": "ce79c656",
   "metadata": {},
   "source": [
    "$H_0$ rejected. That value of gold_on_event changed statistically significant, pvalue=1.47e-05"
   ]
  },
  {
   "cell_type": "markdown",
   "id": "f5af5966",
   "metadata": {},
   "source": [
    "#### 2.2.2. Bootstrap. Confidence interval for mean and median changes."
   ]
  },
  {
   "cell_type": "code",
   "execution_count": 49,
   "id": "4806fba5",
   "metadata": {},
   "outputs": [],
   "source": [
    "def get_bootstrap_samples(data, n_samples, len_sample):\n",
    "    indices = np.random.randint(0, len(data), (n_samples, len_sample))\n",
    "    samples = data[indices]\n",
    "    return samples"
   ]
  },
  {
   "cell_type": "code",
   "execution_count": 50,
   "id": "48c2d911",
   "metadata": {},
   "outputs": [],
   "source": [
    "def stat_intervals(stat, alpha):\n",
    "    boundaries = np.percentile(stat, [100*alpha/2., 100*(1 - alpha/2.)])\n",
    "    return boundaries"
   ]
  },
  {
   "cell_type": "code",
   "execution_count": 51,
   "id": "b2c0b81b",
   "metadata": {},
   "outputs": [],
   "source": [
    "gold_control = df[(df['AbGroup'] == 'Control') & (df['gold_on_event'].notna())]['gold_on_event'].values\n",
    "gold_test = df[(df['AbGroup'] == 'Test') & (df['gold_on_event'].notna())]['gold_on_event'].values"
   ]
  },
  {
   "cell_type": "code",
   "execution_count": 52,
   "id": "49504f0f",
   "metadata": {},
   "outputs": [],
   "source": [
    "gold_control_median = list(map(np.median, get_bootstrap_samples(gold_control, 10000, len(gold_control))))\n",
    "gold_test_median = list(map(np.median, get_bootstrap_samples(gold_test, 10000, len(gold_test))))\n",
    "\n",
    "delta_median_scores = list(map(lambda x: x[1] - x[0], zip(gold_control_median, gold_test_median)))"
   ]
  },
  {
   "cell_type": "code",
   "execution_count": 53,
   "id": "95c7b679",
   "metadata": {},
   "outputs": [
    {
     "data": {
      "image/png": "[encoded data removed]",
      "text/plain": [
       "<Figure size 432x288 with 1 Axes>"
      ]
     },
     "metadata": {
      "needs_background": "light"
     },
     "output_type": "display_data"
    }
   ],
   "source": [
    "plt.hist(delta_median_scores)\n",
    "plt.show()"
   ]
  },
  {
   "cell_type": "code",
   "execution_count": 54,
   "id": "38d55bbc",
   "metadata": {},
   "outputs": [
    {
     "data": {
      "text/plain": [
       "array([500., 500.])"
      ]
     },
     "execution_count": 54,
     "metadata": {},
     "output_type": "execute_result"
    }
   ],
   "source": [
    "stat_intervals(delta_median_scores, 0.05)"
   ]
  },
  {
   "cell_type": "code",
   "execution_count": 58,
   "id": "6ebe5f9c",
   "metadata": {},
   "outputs": [],
   "source": [
    "gold_control_mean = list(map(np.mean, get_bootstrap_samples(gold_control, 10000, len(gold_control))))\n",
    "gold_test_mean = list(map(np.mean, get_bootstrap_samples(gold_test, 10000, len(gold_test))))\n",
    "\n",
    "delta_mean_scores = list(map(lambda x: x[1] - x[0], zip(gold_control_mean, gold_test_mean)))"
   ]
  },
  {
   "cell_type": "code",
   "execution_count": 59,
   "id": "660869d2",
   "metadata": {},
   "outputs": [
    {
     "data": {
      "image/png": "[encoded data removed]",
      "text/plain": [
       "<Figure size 432x288 with 1 Axes>"
      ]
     },
     "metadata": {
      "needs_background": "light"
     },
     "output_type": "display_data"
    }
   ],
   "source": [
    "plt.hist(delta_mean_scores, bins = 20)\n",
    "plt.show()"
   ]
  },
  {
   "cell_type": "code",
   "execution_count": 60,
   "id": "9b6e26b8",
   "metadata": {},
   "outputs": [
    {
     "data": {
      "text/plain": [
       "array([  6.2338599 , 196.35437037])"
      ]
     },
     "execution_count": 60,
     "metadata": {},
     "output_type": "execute_result"
    }
   ],
   "source": [
    "stat_intervals(delta_mean_scores, 0.05)"
   ]
  },
  {
   "cell_type": "markdown",
   "id": "cecb14b6",
   "metadata": {},
   "source": [
    "At significant level of 0.05, median increased by 500, mean increased by [  6.2338599 , 196.35437037]."
   ]
  },
  {
   "cell_type": "markdown",
   "id": "21a26f13",
   "metadata": {},
   "source": [
    "#### 2.2.3. gold_on_event without extreme values"
   ]
  },
  {
   "cell_type": "markdown",
   "id": "997a5d35",
   "metadata": {},
   "source": [
    "We can observe, that gold_on_event have extreme values that are far from our mean, may be they effect on mean"
   ]
  },
  {
   "cell_type": "markdown",
   "id": "69f81e11",
   "metadata": {},
   "source": [
    "Let's check mean at Control and Test groups, without extreme values"
   ]
  },
  {
   "cell_type": "code",
   "execution_count": 61,
   "id": "86457024",
   "metadata": {},
   "outputs": [
    {
     "data": {
      "text/plain": [
       "12500.0"
      ]
     },
     "execution_count": 61,
     "metadata": {},
     "output_type": "execute_result"
    }
   ],
   "source": [
    "percentile_99 = np.percentile(df[df['gold_on_event'].notna()]['gold_on_event'], 99)\n",
    "percentile_99"
   ]
  },
  {
   "cell_type": "code",
   "execution_count": 62,
   "id": "d7d89fa3",
   "metadata": {},
   "outputs": [],
   "source": [
    "gold_control = df[(df['AbGroup'] == 'Control') & (df['gold_on_event'].notna()) & (df['gold_on_event'] <= percentile_99)]['gold_on_event'].values\n",
    "gold_test = df[(df['AbGroup'] == 'Test') & (df['gold_on_event'].notna()) & (df['gold_on_event'] <= percentile_99)]['gold_on_event'].values"
   ]
  },
  {
   "cell_type": "code",
   "execution_count": 63,
   "id": "0b191657",
   "metadata": {},
   "outputs": [],
   "source": [
    "gold_control_mean = list(map(np.mean, get_bootstrap_samples(gold_control, 10000, len(gold_control))))\n",
    "gold_test_mean = list(map(np.mean, get_bootstrap_samples(gold_test, 10000, len(gold_test))))\n",
    "\n",
    "delta_mean_scores = list(map(lambda x: x[1] - x[0], zip(gold_control_mean, gold_test_mean)))"
   ]
  },
  {
   "cell_type": "code",
   "execution_count": 64,
   "id": "11917c9d",
   "metadata": {},
   "outputs": [
    {
     "data": {
      "image/png": "[encoded data removed]",
      "text/plain": [
       "<Figure size 432x288 with 1 Axes>"
      ]
     },
     "metadata": {
      "needs_background": "light"
     },
     "output_type": "display_data"
    }
   ],
   "source": [
    "plt.hist(delta_mean_scores, bins = 20)\n",
    "plt.show()"
   ]
  },
  {
   "cell_type": "code",
   "execution_count": 65,
   "id": "91bf8428",
   "metadata": {},
   "outputs": [
    {
     "data": {
      "text/plain": [
       "array([ 48.52662606, 132.39892056])"
      ]
     },
     "execution_count": 65,
     "metadata": {},
     "output_type": "execute_result"
    }
   ],
   "source": [
    "stat_intervals(delta_mean_scores, 0.05)"
   ]
  },
  {
   "cell_type": "markdown",
   "id": "dd747aac",
   "metadata": {},
   "source": [
    "At significant level of 0.05, mean of gold_on_event without extreme values also increased by [ 48.52662606, 132.39892056]."
   ]
  },
  {
   "cell_type": "markdown",
   "id": "7dc0b273",
   "metadata": {},
   "source": [
    "### 2.3. Hypothesis testing. Metric: gold_on_other_activities"
   ]
  },
  {
   "cell_type": "markdown",
   "id": "b8b21826",
   "metadata": {},
   "source": [
    "#### 2.3.1. Changes in Test and Control groups"
   ]
  },
  {
   "cell_type": "code",
   "execution_count": 66,
   "id": "35e07c0b",
   "metadata": {},
   "outputs": [
    {
     "data": {
      "text/plain": [
       "count    134230.000000\n",
       "mean        906.109663\n",
       "std        1648.766192\n",
       "min         100.000000\n",
       "25%         500.000000\n",
       "50%         600.000000\n",
       "75%        1000.000000\n",
       "99%        5000.000000\n",
       "max      400000.000000\n",
       "Name: gold_on_other_activities, dtype: float64"
      ]
     },
     "execution_count": 66,
     "metadata": {},
     "output_type": "execute_result"
    }
   ],
   "source": [
    "df_control['gold_on_other_activities'].describe(percentiles = [0.25, 0.75, 0.99])"
   ]
  },
  {
   "cell_type": "code",
   "execution_count": 67,
   "id": "9a80167c",
   "metadata": {},
   "outputs": [
    {
     "data": {
      "text/plain": [
       "count     33190.000000\n",
       "mean       1035.039168\n",
       "std        7039.637069\n",
       "min         100.000000\n",
       "25%         500.000000\n",
       "50%         600.000000\n",
       "75%        1050.000000\n",
       "99%        5100.000000\n",
       "max      755950.000000\n",
       "Name: gold_on_other_activities, dtype: float64"
      ]
     },
     "execution_count": 67,
     "metadata": {},
     "output_type": "execute_result"
    }
   ],
   "source": [
    "df_test['gold_on_other_activities'].describe(percentiles = [0.25, 0.75, 0.99])"
   ]
  },
  {
   "cell_type": "code",
   "execution_count": 68,
   "id": "b1079b40",
   "metadata": {},
   "outputs": [
    {
     "data": {
      "text/html": [
       "<div>\n",
       "<style scoped>\n",
       "    .dataframe tbody tr th:only-of-type {\n",
       "        vertical-align: middle;\n",
       "    }\n",
       "\n",
       "    .dataframe tbody tr th {\n",
       "        vertical-align: top;\n",
       "    }\n",
       "\n",
       "    .dataframe thead th {\n",
       "        text-align: right;\n",
       "    }\n",
       "</style>\n",
       "<table border=\"1\" class=\"dataframe\">\n",
       "  <thead>\n",
       "    <tr style=\"text-align: right;\">\n",
       "      <th></th>\n",
       "      <th>AbGroup</th>\n",
       "      <th>mean</th>\n",
       "      <th>median</th>\n",
       "    </tr>\n",
       "  </thead>\n",
       "  <tbody>\n",
       "    <tr>\n",
       "      <th>0</th>\n",
       "      <td>Control</td>\n",
       "      <td>906.109663</td>\n",
       "      <td>600.0</td>\n",
       "    </tr>\n",
       "    <tr>\n",
       "      <th>1</th>\n",
       "      <td>Test</td>\n",
       "      <td>1035.039168</td>\n",
       "      <td>600.0</td>\n",
       "    </tr>\n",
       "  </tbody>\n",
       "</table>\n",
       "</div>"
      ],
      "text/plain": [
       "   AbGroup         mean  median\n",
       "0  Control   906.109663   600.0\n",
       "1     Test  1035.039168   600.0"
      ]
     },
     "execution_count": 68,
     "metadata": {},
     "output_type": "execute_result"
    }
   ],
   "source": [
    "df[df['gold_on_other_activities'].notna()].groupby('AbGroup')['gold_on_other_activities'].agg(['mean', 'median']).reset_index()"
   ]
  },
  {
   "cell_type": "markdown",
   "id": "14d0ffa1",
   "metadata": {},
   "source": [
    "We can observe, that mean increased in Test group. Let's check if it is statistically significant."
   ]
  },
  {
   "cell_type": "markdown",
   "id": "0912c90c",
   "metadata": {},
   "source": [
    "$H_0\\colon F_{X_1}(x) = F_{X_2}(x)$\n",
    "\n",
    "$H_1\\colon F_{X_1}(x) = F_{X_2}(x + \\Delta), \\Delta\\neq 0$"
   ]
  },
  {
   "cell_type": "code",
   "execution_count": 69,
   "id": "11a631af",
   "metadata": {},
   "outputs": [
    {
     "data": {
      "text/plain": [
       "MannwhitneyuResult(statistic=2200694140.0, pvalue=0.0005687346715917233)"
      ]
     },
     "execution_count": 69,
     "metadata": {},
     "output_type": "execute_result"
    }
   ],
   "source": [
    "scipy.stats.mannwhitneyu(df[(df['AbGroup'] == 'Control') & (df['gold_on_other_activities'].notna())]['gold_on_other_activities'], df[(df['AbGroup'] == 'Test') & (df['gold_on_other_activities'].notna())]['gold_on_other_activities'])"
   ]
  },
  {
   "cell_type": "markdown",
   "id": "aac639e9",
   "metadata": {},
   "source": [
    "$H_0$ rejected, the value of gold_on_other_activities changed statistically significant, pvalue=0.00056"
   ]
  },
  {
   "cell_type": "markdown",
   "id": "19de067a",
   "metadata": {},
   "source": [
    "#### 2.3.2. Bootstrap. Confidence interval for mean changes."
   ]
  },
  {
   "cell_type": "code",
   "execution_count": 70,
   "id": "ed4901db",
   "metadata": {},
   "outputs": [],
   "source": [
    "gold_control = df[(df['AbGroup'] == 'Control') & (df['gold_on_other_activities'].notna())]['gold_on_other_activities'].values\n",
    "gold_test = df[(df['AbGroup'] == 'Test') & (df['gold_on_other_activities'].notna())]['gold_on_other_activities'].values"
   ]
  },
  {
   "cell_type": "code",
   "execution_count": 71,
   "id": "868ec8f1",
   "metadata": {},
   "outputs": [],
   "source": [
    "gold_control_mean = list(map(np.mean, get_bootstrap_samples(gold_control, 10000, len(gold_control))))\n",
    "gold_test_mean = list(map(np.mean, get_bootstrap_samples(gold_test, 10000, len(gold_test))))\n",
    "\n",
    "delta_mean_scores = list(map(lambda x: x[1] - x[0], zip(gold_control_mean, gold_test_mean)))"
   ]
  },
  {
   "cell_type": "code",
   "execution_count": 72,
   "id": "a8b6b9c6",
   "metadata": {},
   "outputs": [
    {
     "data": {
      "image/png": "[encoded data removed]",
      "text/plain": [
       "<Figure size 432x288 with 1 Axes>"
      ]
     },
     "metadata": {
      "needs_background": "light"
     },
     "output_type": "display_data"
    }
   ],
   "source": [
    "plt.hist(delta_mean_scores, bins = 20)\n",
    "plt.show()"
   ]
  },
  {
   "cell_type": "code",
   "execution_count": 73,
   "id": "51b44c9f",
   "metadata": {},
   "outputs": [
    {
     "data": {
      "text/plain": [
       "array([ 60.24558793, 210.9517964 ])"
      ]
     },
     "execution_count": 73,
     "metadata": {},
     "output_type": "execute_result"
    }
   ],
   "source": [
    "stat_intervals(delta_mean_scores, 0.05)"
   ]
  },
  {
   "cell_type": "markdown",
   "id": "9fde3249",
   "metadata": {},
   "source": [
    "At significant level of 0.05, mean of gold_on_other_activities increased by [ 60.24558793, 210.9517964 ]."
   ]
  },
  {
   "cell_type": "markdown",
   "id": "90da17b4",
   "metadata": {},
   "source": [
    "#### 2.3.3. gold_on_other_activities without extreme values"
   ]
  },
  {
   "cell_type": "code",
   "execution_count": 75,
   "id": "141198fc",
   "metadata": {},
   "outputs": [
    {
     "data": {
      "text/plain": [
       "(5000.0, 5100.0)"
      ]
     },
     "execution_count": 75,
     "metadata": {},
     "output_type": "execute_result"
    }
   ],
   "source": [
    "percentile_99_control = np.percentile(df[(df['AbGroup'] == 'Control') & df['gold_on_other_activities'].notna()]['gold_on_other_activities'], 99)\n",
    "percentile_99_test = np.percentile(df[(df['AbGroup'] == 'Test') & df['gold_on_other_activities'].notna()]['gold_on_other_activities'], 99)\n",
    "\n",
    "percentile_99_control, percentile_99_test"
   ]
  },
  {
   "cell_type": "code",
   "execution_count": 76,
   "id": "39aabca0",
   "metadata": {},
   "outputs": [],
   "source": [
    "gold_control = df[(df['AbGroup'] == 'Control') & (df['gold_on_other_activities'].notna()) & (df['gold_on_other_activities'] <= percentile_99_control)]['gold_on_other_activities'].values\n",
    "gold_test = df[(df['AbGroup'] == 'Test') & (df['gold_on_other_activities'].notna()) & (df['gold_on_other_activities'] <= percentile_99_test)]['gold_on_other_activities'].values"
   ]
  },
  {
   "cell_type": "code",
   "execution_count": 77,
   "id": "b426942e",
   "metadata": {},
   "outputs": [],
   "source": [
    "gold_control_mean = list(map(np.mean, get_bootstrap_samples(gold_control, 10000, len(gold_control))))\n",
    "gold_test_mean = list(map(np.mean, get_bootstrap_samples(gold_test, 10000, len(gold_test))))\n",
    "\n",
    "delta_mean_scores = list(map(lambda x: x[1] - x[0], zip(gold_control_mean, gold_test_mean)))"
   ]
  },
  {
   "cell_type": "code",
   "execution_count": 78,
   "id": "73b36b13",
   "metadata": {},
   "outputs": [
    {
     "data": {
      "image/png": "[encoded data removed]",
      "text/plain": [
       "<Figure size 432x288 with 1 Axes>"
      ]
     },
     "metadata": {
      "needs_background": "light"
     },
     "output_type": "display_data"
    }
   ],
   "source": [
    "plt.hist(delta_mean_scores, bins = 20)\n",
    "plt.show()"
   ]
  },
  {
   "cell_type": "code",
   "execution_count": 79,
   "id": "4ffbd053",
   "metadata": {},
   "outputs": [
    {
     "data": {
      "text/plain": [
       "array([ 2.34039439, 20.89043011])"
      ]
     },
     "execution_count": 79,
     "metadata": {},
     "output_type": "execute_result"
    }
   ],
   "source": [
    "stat_intervals(delta_mean_scores, 0.05)"
   ]
  },
  {
   "cell_type": "markdown",
   "id": "60e2b8bb",
   "metadata": {},
   "source": [
    "At a significant level of 0.05, mean of gold_on_other_activities without extreme values increased by [ 2.34039439, 20.89043011]."
   ]
  },
  {
   "cell_type": "markdown",
   "id": "5366cedf",
   "metadata": {},
   "source": [
    "# 3. Conclusion"
   ]
  },
  {
   "cell_type": "markdown",
   "id": "3b9c5240",
   "metadata": {},
   "source": [
    "+ The Test group performed better.\n",
    "+ Experiment positive and statistically significantly changed gold_on_event:\n",
    "  median increased from 1000 to 1500\n",
    "  + 95% Confidence interval for mean changes: [  6.2338599 , 196.35437037]\n",
    "  + 95% Confidence interval for mean of gold_on_event without extreme values (<= 99 percentile): [ 48.52662606, 132.39892056]\n",
    "+ Experiment positive and statistically significantly changed gold_on_other_activities\n",
    "  + 95% Confidence interval for mean changes: [ 60.24558793, 210.9517964 ]\n",
    "\n",
    "+ Experiment launch is recommended."
   ]
  }
 ],
 "metadata": {
  "kernelspec": {
   "display_name": "Python 3 (ipykernel)",
   "language": "python",
   "name": "python3"
  },
  "language_info": {
   "codemirror_mode": {
    "name": "ipython",
    "version": 3
   },
   "file_extension": ".py",
   "mimetype": "text/x-python",
   "name": "python",
   "nbconvert_exporter": "python",
   "pygments_lexer": "ipython3",
   "version": "3.9.12"
  }
 },
 "nbformat": 4,
 "nbformat_minor": 5
}
